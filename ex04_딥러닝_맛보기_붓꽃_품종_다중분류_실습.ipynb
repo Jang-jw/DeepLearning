{
  "nbformat": 4,
  "nbformat_minor": 0,
  "metadata": {
    "colab": {
      "provenance": [],
      "mount_file_id": "12yhcs1sOV1Hb3JFM31GTIi3WsfdTCyZz",
      "authorship_tag": "ABX9TyNrCJg450zkj7AFqk6SvyKm",
      "include_colab_link": true
    },
    "kernelspec": {
      "name": "python3",
      "display_name": "Python 3"
    },
    "language_info": {
      "name": "python"
    }
  },
  "cells": [
    {
      "cell_type": "markdown",
      "metadata": {
        "id": "view-in-github",
        "colab_type": "text"
      },
      "source": [
        "<a href=\"https://colab.research.google.com/github/Jang-jw/DeepLearning/blob/main/ex04_%EB%94%A5%EB%9F%AC%EB%8B%9D_%EB%A7%9B%EB%B3%B4%EA%B8%B0_%EB%B6%93%EA%BD%83_%ED%92%88%EC%A2%85_%EB%8B%A4%EC%A4%91%EB%B6%84%EB%A5%98_%EC%8B%A4%EC%8A%B5.ipynb\" target=\"_parent\"><img src=\"https://colab.research.google.com/assets/colab-badge.svg\" alt=\"Open In Colab\"/></a>"
      ]
    },
    {
      "cell_type": "markdown",
      "source": [
        "### 목표\n",
        "- iris 데이터를 활용해서 붓꽃 품종을 분류\n",
        "- 인공신경망의 다중분류 학습을 진행해보자"
      ],
      "metadata": {
        "id": "raYgku3eGBT2"
      }
    },
    {
      "cell_type": "code",
      "source": [
        "# 도구 불러오기\n",
        "import numpy as np\n",
        "import pandas as pd\n",
        "from matplotlib import pyplot as plt\n",
        "import seaborn as sns\n",
        "import warnings\n",
        "warnings.filterwarnings('ignore')"
      ],
      "metadata": {
        "id": "oz7XLrvUGa_U"
      },
      "execution_count": 126,
      "outputs": []
    },
    {
      "cell_type": "code",
      "source": [
        "# 데이터 불러오기 (사이킷런 => load_iris)\n",
        "from sklearn.datasets import load_iris"
      ],
      "metadata": {
        "id": "4NRao3MLGcTz"
      },
      "execution_count": 127,
      "outputs": []
    },
    {
      "cell_type": "code",
      "source": [
        "# 데이터 객체 생성\n",
        "iris=load_iris()"
      ],
      "metadata": {
        "id": "LQPSY7BFGdxU"
      },
      "execution_count": 128,
      "outputs": []
    },
    {
      "cell_type": "code",
      "source": [
        "# 데이터의 키값 확인하기\n",
        "iris.keys()"
      ],
      "metadata": {
        "colab": {
          "base_uri": "https://localhost:8080/"
        },
        "id": "t4pYb-xiGj_K",
        "outputId": "fb48135e-122b-4e55-d9eb-e666edb1e9d4"
      },
      "execution_count": 129,
      "outputs": [
        {
          "output_type": "execute_result",
          "data": {
            "text/plain": [
              "dict_keys(['data', 'target', 'frame', 'target_names', 'DESCR', 'feature_names', 'filename', 'data_module'])"
            ]
          },
          "metadata": {},
          "execution_count": 129
        }
      ]
    },
    {
      "cell_type": "code",
      "source": [
        "# 데이터 분할 (문제와 정답)\n",
        "X=iris['data']\n",
        "y=iris['target']"
      ],
      "metadata": {
        "id": "unkek6DhIC4g"
      },
      "execution_count": 130,
      "outputs": []
    },
    {
      "cell_type": "code",
      "source": [
        "# 위의 분할된 데이터로 훈련데이터 / 평가데이터셋 분할\n",
        "# 테스트의 비율은 20%, 랜덤 시드 = 3\n",
        "from sklearn.model_selection import train_test_split\n",
        "X_train,X_test,y_train,y_test=train_test_split(X,y,test_size=0.2,random_state=3)"
      ],
      "metadata": {
        "id": "Mt2OjzNqIJMX"
      },
      "execution_count": 131,
      "outputs": []
    },
    {
      "cell_type": "code",
      "source": [
        "# 분할된 데이터 확인\n",
        "X_train.shape,X_test.shape,y_train.shape,y_test.shape"
      ],
      "metadata": {
        "colab": {
          "base_uri": "https://localhost:8080/"
        },
        "id": "BImWvS4RINS6",
        "outputId": "c62716cd-0ad4-4561-8106-ba60d4b0b039"
      },
      "execution_count": 132,
      "outputs": [
        {
          "output_type": "execute_result",
          "data": {
            "text/plain": [
              "((120, 4), (30, 4), (120,), (30,))"
            ]
          },
          "metadata": {},
          "execution_count": 132
        }
      ]
    },
    {
      "cell_type": "code",
      "source": [
        "# 다중 분류에서는 정답 데이터를 원-핫 인코딩 해줘야 한다!\n",
        "# pd.get_dummies(대상) => pandas\n",
        "# to_categorical(대상) => tensorfolw\n",
        "# 정답 데이터 원-핫 인코딩 진행하기\n",
        "from tensorflow.keras.utils import to_categorical"
      ],
      "metadata": {
        "id": "dZPzshoBKfYA"
      },
      "execution_count": 133,
      "outputs": []
    },
    {
      "cell_type": "code",
      "source": [
        "# 원-핫 인코딩 진행\n",
        "y_tr_one_hot=to_categorical(y_train) # 훈련용 정답 데이터\n",
        "y_te_one_hot=to_categorical(y_test) # 평가용 정답 데이터"
      ],
      "metadata": {
        "id": "UorA_uOgPUDR"
      },
      "execution_count": 134,
      "outputs": []
    },
    {
      "cell_type": "code",
      "source": [
        "y_tr_one_hot"
      ],
      "metadata": {
        "colab": {
          "base_uri": "https://localhost:8080/"
        },
        "id": "4VURi8eIPoZS",
        "outputId": "e36f9624-6f8b-4a61-8da8-4cee11f97f2c"
      },
      "execution_count": 135,
      "outputs": [
        {
          "output_type": "execute_result",
          "data": {
            "text/plain": [
              "array([[1., 0., 0.],\n",
              "       [1., 0., 0.],\n",
              "       [0., 0., 1.],\n",
              "       [0., 1., 0.],\n",
              "       [1., 0., 0.],\n",
              "       [1., 0., 0.],\n",
              "       [0., 1., 0.],\n",
              "       [1., 0., 0.],\n",
              "       [0., 0., 1.],\n",
              "       [0., 1., 0.],\n",
              "       [0., 0., 1.],\n",
              "       [0., 1., 0.],\n",
              "       [1., 0., 0.],\n",
              "       [1., 0., 0.],\n",
              "       [0., 0., 1.],\n",
              "       [0., 1., 0.],\n",
              "       [1., 0., 0.],\n",
              "       [0., 1., 0.],\n",
              "       [0., 0., 1.],\n",
              "       [0., 1., 0.],\n",
              "       [1., 0., 0.],\n",
              "       [1., 0., 0.],\n",
              "       [0., 0., 1.],\n",
              "       [0., 1., 0.],\n",
              "       [0., 1., 0.],\n",
              "       [1., 0., 0.],\n",
              "       [0., 0., 1.],\n",
              "       [1., 0., 0.],\n",
              "       [0., 0., 1.],\n",
              "       [0., 1., 0.],\n",
              "       [1., 0., 0.],\n",
              "       [1., 0., 0.],\n",
              "       [0., 0., 1.],\n",
              "       [0., 1., 0.],\n",
              "       [1., 0., 0.],\n",
              "       [1., 0., 0.],\n",
              "       [0., 1., 0.],\n",
              "       [0., 0., 1.],\n",
              "       [0., 0., 1.],\n",
              "       [1., 0., 0.],\n",
              "       [0., 0., 1.],\n",
              "       [0., 1., 0.],\n",
              "       [1., 0., 0.],\n",
              "       [1., 0., 0.],\n",
              "       [0., 0., 1.],\n",
              "       [0., 0., 1.],\n",
              "       [0., 0., 1.],\n",
              "       [0., 1., 0.],\n",
              "       [0., 1., 0.],\n",
              "       [0., 1., 0.],\n",
              "       [1., 0., 0.],\n",
              "       [1., 0., 0.],\n",
              "       [0., 0., 1.],\n",
              "       [0., 0., 1.],\n",
              "       [0., 1., 0.],\n",
              "       [0., 0., 1.],\n",
              "       [0., 1., 0.],\n",
              "       [0., 0., 1.],\n",
              "       [1., 0., 0.],\n",
              "       [0., 0., 1.],\n",
              "       [1., 0., 0.],\n",
              "       [0., 1., 0.],\n",
              "       [0., 1., 0.],\n",
              "       [0., 0., 1.],\n",
              "       [0., 0., 1.],\n",
              "       [1., 0., 0.],\n",
              "       [0., 1., 0.],\n",
              "       [1., 0., 0.],\n",
              "       [0., 1., 0.],\n",
              "       [0., 1., 0.],\n",
              "       [0., 1., 0.],\n",
              "       [1., 0., 0.],\n",
              "       [0., 0., 1.],\n",
              "       [1., 0., 0.],\n",
              "       [0., 0., 1.],\n",
              "       [0., 1., 0.],\n",
              "       [0., 0., 1.],\n",
              "       [0., 1., 0.],\n",
              "       [0., 0., 1.],\n",
              "       [0., 1., 0.],\n",
              "       [1., 0., 0.],\n",
              "       [0., 0., 1.],\n",
              "       [0., 1., 0.],\n",
              "       [0., 0., 1.],\n",
              "       [0., 1., 0.],\n",
              "       [1., 0., 0.],\n",
              "       [0., 1., 0.],\n",
              "       [0., 0., 1.],\n",
              "       [1., 0., 0.],\n",
              "       [0., 1., 0.],\n",
              "       [1., 0., 0.],\n",
              "       [1., 0., 0.],\n",
              "       [1., 0., 0.],\n",
              "       [0., 1., 0.],\n",
              "       [0., 0., 1.],\n",
              "       [1., 0., 0.],\n",
              "       [1., 0., 0.],\n",
              "       [0., 0., 1.],\n",
              "       [1., 0., 0.],\n",
              "       [0., 1., 0.],\n",
              "       [0., 0., 1.],\n",
              "       [0., 1., 0.],\n",
              "       [0., 0., 1.],\n",
              "       [0., 0., 1.],\n",
              "       [0., 1., 0.],\n",
              "       [0., 1., 0.],\n",
              "       [0., 0., 1.],\n",
              "       [0., 1., 0.],\n",
              "       [1., 0., 0.],\n",
              "       [0., 1., 0.],\n",
              "       [0., 1., 0.],\n",
              "       [1., 0., 0.],\n",
              "       [0., 1., 0.],\n",
              "       [0., 0., 1.],\n",
              "       [0., 0., 1.],\n",
              "       [0., 0., 1.],\n",
              "       [1., 0., 0.],\n",
              "       [1., 0., 0.],\n",
              "       [0., 0., 1.],\n",
              "       [0., 0., 1.]], dtype=float32)"
            ]
          },
          "metadata": {},
          "execution_count": 135
        }
      ]
    },
    {
      "cell_type": "markdown",
      "source": [
        "### keras 활용 인공 신경망 생성!\n",
        "- 1. 신경망 구조 설계\n",
        "- 2. 학습 / 평가 방법 설정\n",
        "- 3. 학습 및 시각화\n",
        "- 4. 모델 평가"
      ],
      "metadata": {
        "id": "jk9blb_zPy_a"
      }
    },
    {
      "cell_type": "code",
      "source": [
        "# 0. 신경망 구축하는데 필요한 도구 불러오기\n",
        "from tensorflow.keras import Sequential\n",
        "from tensorflow.keras.layers import Dense"
      ],
      "metadata": {
        "id": "jWCRSdMLP-Jv"
      },
      "execution_count": 136,
      "outputs": []
    },
    {
      "cell_type": "code",
      "source": [
        "np.unique(iris.target) # 출력층 노드 갯수를 검색해서 맞춘다"
      ],
      "metadata": {
        "colab": {
          "base_uri": "https://localhost:8080/"
        },
        "id": "JjAqN6l5TFjj",
        "outputId": "d0301ac7-5dbe-4629-c281-4f5ee4996887"
      },
      "execution_count": 137,
      "outputs": [
        {
          "output_type": "execute_result",
          "data": {
            "text/plain": [
              "array([0, 1, 2])"
            ]
          },
          "metadata": {},
          "execution_count": 137
        }
      ]
    },
    {
      "cell_type": "code",
      "source": [
        "# 1. 신경망 구조 설계\n",
        "# 1-1 신경망 뼈대 구축\n",
        "model=Sequential()\n",
        "\n",
        "# 1-2 입력층 + 중간층 설정\n",
        "# 입력층 (노드의 갯수 16, 활성화 함수는 relu)\n",
        "model.add(Dense(units=16,input_dim=4,activation='relu'))\n",
        "\n",
        "# 중간층1 (노드의 갯수 32, 활성화 함수는 relu)\n",
        "model.add(Dense(units=32,activation='relu'))\n",
        "\n",
        "# 중간층2 (노드의 갯수 10, 활성화 함수는 relu)\n",
        "model.add(Dense(units=10,activation='relu'))\n",
        "\n",
        "# 출력층 설정(노드의 갯수 : ?, 활성화 함수는 softmax)\n",
        "# 다중분류 : 출력층의 뉴런 갯수는 정답 데이터의 종류만큼 설정\n",
        "# iris 데이터 : (0, 1, 2) => 3개다\n",
        "model.add(Dense(units=3,activation='softmax')) # 출력층 노드 갯수를 맞춘다\n",
        "\n",
        "# 모델 요약\n",
        "model.summary()"
      ],
      "metadata": {
        "colab": {
          "base_uri": "https://localhost:8080/"
        },
        "id": "h8rCPgthQGVe",
        "outputId": "aea6d8ab-da56-4fcb-e28a-0cf5da38f712"
      },
      "execution_count": 138,
      "outputs": [
        {
          "output_type": "stream",
          "name": "stdout",
          "text": [
            "Model: \"sequential_10\"\n",
            "_________________________________________________________________\n",
            " Layer (type)                Output Shape              Param #   \n",
            "=================================================================\n",
            " dense_40 (Dense)            (None, 16)                80        \n",
            "                                                                 \n",
            " dense_41 (Dense)            (None, 32)                544       \n",
            "                                                                 \n",
            " dense_42 (Dense)            (None, 10)                330       \n",
            "                                                                 \n",
            " dense_43 (Dense)            (None, 3)                 33        \n",
            "                                                                 \n",
            "=================================================================\n",
            "Total params: 987 (3.86 KB)\n",
            "Trainable params: 987 (3.86 KB)\n",
            "Non-trainable params: 0 (0.00 Byte)\n",
            "_________________________________________________________________\n"
          ]
        }
      ]
    },
    {
      "cell_type": "code",
      "source": [
        "# 2. 모델 학습 및 평가 방법 설정\n",
        "model.compile(loss='categorical_crossentropy', # 손실함수에는 어떤걸 넣어줘야할까?\n",
        "              optimizer='adam',\n",
        "              metrics=['accuracy'])"
      ],
      "metadata": {
        "id": "6t6pCpQvRkt_"
      },
      "execution_count": 139,
      "outputs": []
    },
    {
      "cell_type": "code",
      "source": [
        "# 3. 모델 학습 (학습 횟수는 200)\n",
        "h=model.fit(X_train,y_tr_one_hot,epochs=200)"
      ],
      "metadata": {
        "colab": {
          "base_uri": "https://localhost:8080/"
        },
        "id": "kjdZO3btR4xC",
        "outputId": "cfba72ad-5960-4e9e-c2dc-43c42a3da468"
      },
      "execution_count": 140,
      "outputs": [
        {
          "output_type": "stream",
          "name": "stdout",
          "text": [
            "Epoch 1/200\n",
            "4/4 [==============================] - 1s 4ms/step - loss: 1.7246 - accuracy: 0.3333\n",
            "Epoch 2/200\n",
            "4/4 [==============================] - 0s 4ms/step - loss: 1.4986 - accuracy: 0.3333\n",
            "Epoch 3/200\n",
            "4/4 [==============================] - 0s 4ms/step - loss: 1.3068 - accuracy: 0.3333\n",
            "Epoch 4/200\n",
            "4/4 [==============================] - 0s 3ms/step - loss: 1.1664 - accuracy: 0.3500\n",
            "Epoch 5/200\n",
            "4/4 [==============================] - 0s 4ms/step - loss: 1.0720 - accuracy: 0.5583\n",
            "Epoch 6/200\n",
            "4/4 [==============================] - 0s 8ms/step - loss: 1.0384 - accuracy: 0.6583\n",
            "Epoch 7/200\n",
            "4/4 [==============================] - 0s 4ms/step - loss: 1.0170 - accuracy: 0.6667\n",
            "Epoch 8/200\n",
            "4/4 [==============================] - 0s 4ms/step - loss: 1.0073 - accuracy: 0.6667\n",
            "Epoch 9/200\n",
            "4/4 [==============================] - 0s 5ms/step - loss: 0.9981 - accuracy: 0.6667\n",
            "Epoch 10/200\n",
            "4/4 [==============================] - 0s 4ms/step - loss: 0.9911 - accuracy: 0.6667\n",
            "Epoch 11/200\n",
            "4/4 [==============================] - 0s 4ms/step - loss: 0.9826 - accuracy: 0.6667\n",
            "Epoch 12/200\n",
            "4/4 [==============================] - 0s 4ms/step - loss: 0.9734 - accuracy: 0.6667\n",
            "Epoch 13/200\n",
            "4/4 [==============================] - 0s 4ms/step - loss: 0.9639 - accuracy: 0.6667\n",
            "Epoch 14/200\n",
            "4/4 [==============================] - 0s 4ms/step - loss: 0.9535 - accuracy: 0.6667\n",
            "Epoch 15/200\n",
            "4/4 [==============================] - 0s 4ms/step - loss: 0.9417 - accuracy: 0.6667\n",
            "Epoch 16/200\n",
            "4/4 [==============================] - 0s 4ms/step - loss: 0.9304 - accuracy: 0.6667\n",
            "Epoch 17/200\n",
            "4/4 [==============================] - 0s 4ms/step - loss: 0.9182 - accuracy: 0.6667\n",
            "Epoch 18/200\n",
            "4/4 [==============================] - 0s 4ms/step - loss: 0.9052 - accuracy: 0.6667\n",
            "Epoch 19/200\n",
            "4/4 [==============================] - 0s 4ms/step - loss: 0.8909 - accuracy: 0.6667\n",
            "Epoch 20/200\n",
            "4/4 [==============================] - 0s 4ms/step - loss: 0.8771 - accuracy: 0.6667\n",
            "Epoch 21/200\n",
            "4/4 [==============================] - 0s 4ms/step - loss: 0.8627 - accuracy: 0.6667\n",
            "Epoch 22/200\n",
            "4/4 [==============================] - 0s 4ms/step - loss: 0.8478 - accuracy: 0.6667\n",
            "Epoch 23/200\n",
            "4/4 [==============================] - 0s 4ms/step - loss: 0.8332 - accuracy: 0.6667\n",
            "Epoch 24/200\n",
            "4/4 [==============================] - 0s 4ms/step - loss: 0.8180 - accuracy: 0.6667\n",
            "Epoch 25/200\n",
            "4/4 [==============================] - 0s 3ms/step - loss: 0.8024 - accuracy: 0.6667\n",
            "Epoch 26/200\n",
            "4/4 [==============================] - 0s 4ms/step - loss: 0.7869 - accuracy: 0.6667\n",
            "Epoch 27/200\n",
            "4/4 [==============================] - 0s 4ms/step - loss: 0.7721 - accuracy: 0.6667\n",
            "Epoch 28/200\n",
            "4/4 [==============================] - 0s 6ms/step - loss: 0.7574 - accuracy: 0.6667\n",
            "Epoch 29/200\n",
            "4/4 [==============================] - 0s 4ms/step - loss: 0.7425 - accuracy: 0.6667\n",
            "Epoch 30/200\n",
            "4/4 [==============================] - 0s 4ms/step - loss: 0.7282 - accuracy: 0.6667\n",
            "Epoch 31/200\n",
            "4/4 [==============================] - 0s 4ms/step - loss: 0.7146 - accuracy: 0.6667\n",
            "Epoch 32/200\n",
            "4/4 [==============================] - 0s 5ms/step - loss: 0.7011 - accuracy: 0.6667\n",
            "Epoch 33/200\n",
            "4/4 [==============================] - 0s 4ms/step - loss: 0.6875 - accuracy: 0.6667\n",
            "Epoch 34/200\n",
            "4/4 [==============================] - 0s 5ms/step - loss: 0.6749 - accuracy: 0.6667\n",
            "Epoch 35/200\n",
            "4/4 [==============================] - 0s 4ms/step - loss: 0.6634 - accuracy: 0.6667\n",
            "Epoch 36/200\n",
            "4/4 [==============================] - 0s 4ms/step - loss: 0.6519 - accuracy: 0.6667\n",
            "Epoch 37/200\n",
            "4/4 [==============================] - 0s 4ms/step - loss: 0.6409 - accuracy: 0.6667\n",
            "Epoch 38/200\n",
            "4/4 [==============================] - 0s 4ms/step - loss: 0.6309 - accuracy: 0.6667\n",
            "Epoch 39/200\n",
            "4/4 [==============================] - 0s 4ms/step - loss: 0.6215 - accuracy: 0.6667\n",
            "Epoch 40/200\n",
            "4/4 [==============================] - 0s 4ms/step - loss: 0.6121 - accuracy: 0.6667\n",
            "Epoch 41/200\n",
            "4/4 [==============================] - 0s 6ms/step - loss: 0.6035 - accuracy: 0.6667\n",
            "Epoch 42/200\n",
            "4/4 [==============================] - 0s 6ms/step - loss: 0.5952 - accuracy: 0.6667\n",
            "Epoch 43/200\n",
            "4/4 [==============================] - 0s 5ms/step - loss: 0.5874 - accuracy: 0.6667\n",
            "Epoch 44/200\n",
            "4/4 [==============================] - 0s 4ms/step - loss: 0.5802 - accuracy: 0.6667\n",
            "Epoch 45/200\n",
            "4/4 [==============================] - 0s 4ms/step - loss: 0.5728 - accuracy: 0.6667\n",
            "Epoch 46/200\n",
            "4/4 [==============================] - 0s 4ms/step - loss: 0.5661 - accuracy: 0.6667\n",
            "Epoch 47/200\n",
            "4/4 [==============================] - 0s 4ms/step - loss: 0.5594 - accuracy: 0.6667\n",
            "Epoch 48/200\n",
            "4/4 [==============================] - 0s 6ms/step - loss: 0.5535 - accuracy: 0.6667\n",
            "Epoch 49/200\n",
            "4/4 [==============================] - 0s 4ms/step - loss: 0.5473 - accuracy: 0.6667\n",
            "Epoch 50/200\n",
            "4/4 [==============================] - 0s 4ms/step - loss: 0.5413 - accuracy: 0.6667\n",
            "Epoch 51/200\n",
            "4/4 [==============================] - 0s 4ms/step - loss: 0.5357 - accuracy: 0.6667\n",
            "Epoch 52/200\n",
            "4/4 [==============================] - 0s 4ms/step - loss: 0.5303 - accuracy: 0.6667\n",
            "Epoch 53/200\n",
            "4/4 [==============================] - 0s 4ms/step - loss: 0.5249 - accuracy: 0.6667\n",
            "Epoch 54/200\n",
            "4/4 [==============================] - 0s 5ms/step - loss: 0.5194 - accuracy: 0.6667\n",
            "Epoch 55/200\n",
            "4/4 [==============================] - 0s 4ms/step - loss: 0.5142 - accuracy: 0.6667\n",
            "Epoch 56/200\n",
            "4/4 [==============================] - 0s 4ms/step - loss: 0.5090 - accuracy: 0.6667\n",
            "Epoch 57/200\n",
            "4/4 [==============================] - 0s 4ms/step - loss: 0.5045 - accuracy: 0.6667\n",
            "Epoch 58/200\n",
            "4/4 [==============================] - 0s 4ms/step - loss: 0.4988 - accuracy: 0.6750\n",
            "Epoch 59/200\n",
            "4/4 [==============================] - 0s 4ms/step - loss: 0.4938 - accuracy: 0.6750\n",
            "Epoch 60/200\n",
            "4/4 [==============================] - 0s 4ms/step - loss: 0.4887 - accuracy: 0.6833\n",
            "Epoch 61/200\n",
            "4/4 [==============================] - 0s 7ms/step - loss: 0.4826 - accuracy: 0.6917\n",
            "Epoch 62/200\n",
            "4/4 [==============================] - 0s 4ms/step - loss: 0.4771 - accuracy: 0.6917\n",
            "Epoch 63/200\n",
            "4/4 [==============================] - 0s 5ms/step - loss: 0.4714 - accuracy: 0.7083\n",
            "Epoch 64/200\n",
            "4/4 [==============================] - 0s 4ms/step - loss: 0.4666 - accuracy: 0.7250\n",
            "Epoch 65/200\n",
            "4/4 [==============================] - 0s 4ms/step - loss: 0.4602 - accuracy: 0.7333\n",
            "Epoch 66/200\n",
            "4/4 [==============================] - 0s 4ms/step - loss: 0.4551 - accuracy: 0.7500\n",
            "Epoch 67/200\n",
            "4/4 [==============================] - 0s 4ms/step - loss: 0.4491 - accuracy: 0.7667\n",
            "Epoch 68/200\n",
            "4/4 [==============================] - 0s 4ms/step - loss: 0.4430 - accuracy: 0.8000\n",
            "Epoch 69/200\n",
            "4/4 [==============================] - 0s 4ms/step - loss: 0.4378 - accuracy: 0.8167\n",
            "Epoch 70/200\n",
            "4/4 [==============================] - 0s 4ms/step - loss: 0.4321 - accuracy: 0.8583\n",
            "Epoch 71/200\n",
            "4/4 [==============================] - 0s 4ms/step - loss: 0.4270 - accuracy: 0.8833\n",
            "Epoch 72/200\n",
            "4/4 [==============================] - 0s 4ms/step - loss: 0.4210 - accuracy: 0.8917\n",
            "Epoch 73/200\n",
            "4/4 [==============================] - 0s 4ms/step - loss: 0.4150 - accuracy: 0.8917\n",
            "Epoch 74/200\n",
            "4/4 [==============================] - 0s 4ms/step - loss: 0.4096 - accuracy: 0.8917\n",
            "Epoch 75/200\n",
            "4/4 [==============================] - 0s 4ms/step - loss: 0.4040 - accuracy: 0.9083\n",
            "Epoch 76/200\n",
            "4/4 [==============================] - 0s 4ms/step - loss: 0.3986 - accuracy: 0.9250\n",
            "Epoch 77/200\n",
            "4/4 [==============================] - 0s 4ms/step - loss: 0.3934 - accuracy: 0.9250\n",
            "Epoch 78/200\n",
            "4/4 [==============================] - 0s 4ms/step - loss: 0.3882 - accuracy: 0.9250\n",
            "Epoch 79/200\n",
            "4/4 [==============================] - 0s 4ms/step - loss: 0.3828 - accuracy: 0.9417\n",
            "Epoch 80/200\n",
            "4/4 [==============================] - 0s 4ms/step - loss: 0.3786 - accuracy: 0.9250\n",
            "Epoch 81/200\n",
            "4/4 [==============================] - 0s 4ms/step - loss: 0.3729 - accuracy: 0.9250\n",
            "Epoch 82/200\n",
            "4/4 [==============================] - 0s 5ms/step - loss: 0.3672 - accuracy: 0.9333\n",
            "Epoch 83/200\n",
            "4/4 [==============================] - 0s 4ms/step - loss: 0.3623 - accuracy: 0.9417\n",
            "Epoch 84/200\n",
            "4/4 [==============================] - 0s 5ms/step - loss: 0.3570 - accuracy: 0.9333\n",
            "Epoch 85/200\n",
            "4/4 [==============================] - 0s 5ms/step - loss: 0.3518 - accuracy: 0.9583\n",
            "Epoch 86/200\n",
            "4/4 [==============================] - 0s 7ms/step - loss: 0.3471 - accuracy: 0.9500\n",
            "Epoch 87/200\n",
            "4/4 [==============================] - 0s 4ms/step - loss: 0.3420 - accuracy: 0.9500\n",
            "Epoch 88/200\n",
            "4/4 [==============================] - 0s 3ms/step - loss: 0.3362 - accuracy: 0.9500\n",
            "Epoch 89/200\n",
            "4/4 [==============================] - 0s 4ms/step - loss: 0.3311 - accuracy: 0.9583\n",
            "Epoch 90/200\n",
            "4/4 [==============================] - 0s 5ms/step - loss: 0.3259 - accuracy: 0.9583\n",
            "Epoch 91/200\n",
            "4/4 [==============================] - 0s 4ms/step - loss: 0.3263 - accuracy: 0.9500\n",
            "Epoch 92/200\n",
            "4/4 [==============================] - 0s 4ms/step - loss: 0.3166 - accuracy: 0.9583\n",
            "Epoch 93/200\n",
            "4/4 [==============================] - 0s 4ms/step - loss: 0.3157 - accuracy: 0.9333\n",
            "Epoch 94/200\n",
            "4/4 [==============================] - 0s 4ms/step - loss: 0.3072 - accuracy: 0.9417\n",
            "Epoch 95/200\n",
            "4/4 [==============================] - 0s 4ms/step - loss: 0.3026 - accuracy: 0.9500\n",
            "Epoch 96/200\n",
            "4/4 [==============================] - 0s 5ms/step - loss: 0.2971 - accuracy: 0.9500\n",
            "Epoch 97/200\n",
            "4/4 [==============================] - 0s 5ms/step - loss: 0.2916 - accuracy: 0.9500\n",
            "Epoch 98/200\n",
            "4/4 [==============================] - 0s 5ms/step - loss: 0.2868 - accuracy: 0.9500\n",
            "Epoch 99/200\n",
            "4/4 [==============================] - 0s 4ms/step - loss: 0.2823 - accuracy: 0.9500\n",
            "Epoch 100/200\n",
            "4/4 [==============================] - 0s 4ms/step - loss: 0.2784 - accuracy: 0.9583\n",
            "Epoch 101/200\n",
            "4/4 [==============================] - 0s 5ms/step - loss: 0.2726 - accuracy: 0.9500\n",
            "Epoch 102/200\n",
            "4/4 [==============================] - 0s 5ms/step - loss: 0.2679 - accuracy: 0.9500\n",
            "Epoch 103/200\n",
            "4/4 [==============================] - 0s 4ms/step - loss: 0.2635 - accuracy: 0.9500\n",
            "Epoch 104/200\n",
            "4/4 [==============================] - 0s 4ms/step - loss: 0.2595 - accuracy: 0.9417\n",
            "Epoch 105/200\n",
            "4/4 [==============================] - 0s 4ms/step - loss: 0.2552 - accuracy: 0.9583\n",
            "Epoch 106/200\n",
            "4/4 [==============================] - 0s 4ms/step - loss: 0.2493 - accuracy: 0.9583\n",
            "Epoch 107/200\n",
            "4/4 [==============================] - 0s 4ms/step - loss: 0.2475 - accuracy: 0.9500\n",
            "Epoch 108/200\n",
            "4/4 [==============================] - 0s 5ms/step - loss: 0.2419 - accuracy: 0.9500\n",
            "Epoch 109/200\n",
            "4/4 [==============================] - 0s 6ms/step - loss: 0.2373 - accuracy: 0.9500\n",
            "Epoch 110/200\n",
            "4/4 [==============================] - 0s 5ms/step - loss: 0.2348 - accuracy: 0.9583\n",
            "Epoch 111/200\n",
            "4/4 [==============================] - 0s 4ms/step - loss: 0.2292 - accuracy: 0.9500\n",
            "Epoch 112/200\n",
            "4/4 [==============================] - 0s 4ms/step - loss: 0.2253 - accuracy: 0.9500\n",
            "Epoch 113/200\n",
            "4/4 [==============================] - 0s 5ms/step - loss: 0.2212 - accuracy: 0.9583\n",
            "Epoch 114/200\n",
            "4/4 [==============================] - 0s 4ms/step - loss: 0.2171 - accuracy: 0.9500\n",
            "Epoch 115/200\n",
            "4/4 [==============================] - 0s 5ms/step - loss: 0.2148 - accuracy: 0.9500\n",
            "Epoch 116/200\n",
            "4/4 [==============================] - 0s 4ms/step - loss: 0.2110 - accuracy: 0.9500\n",
            "Epoch 117/200\n",
            "4/4 [==============================] - 0s 4ms/step - loss: 0.2094 - accuracy: 0.9583\n",
            "Epoch 118/200\n",
            "4/4 [==============================] - 0s 4ms/step - loss: 0.2029 - accuracy: 0.9583\n",
            "Epoch 119/200\n",
            "4/4 [==============================] - 0s 4ms/step - loss: 0.2001 - accuracy: 0.9500\n",
            "Epoch 120/200\n",
            "4/4 [==============================] - 0s 4ms/step - loss: 0.1979 - accuracy: 0.9500\n",
            "Epoch 121/200\n",
            "4/4 [==============================] - 0s 4ms/step - loss: 0.1932 - accuracy: 0.9583\n",
            "Epoch 122/200\n",
            "4/4 [==============================] - 0s 5ms/step - loss: 0.1899 - accuracy: 0.9500\n",
            "Epoch 123/200\n",
            "4/4 [==============================] - 0s 5ms/step - loss: 0.1873 - accuracy: 0.9500\n",
            "Epoch 124/200\n",
            "4/4 [==============================] - 0s 4ms/step - loss: 0.1842 - accuracy: 0.9500\n",
            "Epoch 125/200\n",
            "4/4 [==============================] - 0s 4ms/step - loss: 0.1812 - accuracy: 0.9667\n",
            "Epoch 126/200\n",
            "4/4 [==============================] - 0s 4ms/step - loss: 0.1806 - accuracy: 0.9583\n",
            "Epoch 127/200\n",
            "4/4 [==============================] - 0s 5ms/step - loss: 0.1772 - accuracy: 0.9500\n",
            "Epoch 128/200\n",
            "4/4 [==============================] - 0s 4ms/step - loss: 0.1728 - accuracy: 0.9667\n",
            "Epoch 129/200\n",
            "4/4 [==============================] - 0s 5ms/step - loss: 0.1698 - accuracy: 0.9500\n",
            "Epoch 130/200\n",
            "4/4 [==============================] - 0s 5ms/step - loss: 0.1723 - accuracy: 0.9583\n",
            "Epoch 131/200\n",
            "4/4 [==============================] - 0s 4ms/step - loss: 0.1649 - accuracy: 0.9583\n",
            "Epoch 132/200\n",
            "4/4 [==============================] - 0s 5ms/step - loss: 0.1667 - accuracy: 0.9667\n",
            "Epoch 133/200\n",
            "4/4 [==============================] - 0s 5ms/step - loss: 0.1612 - accuracy: 0.9667\n",
            "Epoch 134/200\n",
            "4/4 [==============================] - 0s 5ms/step - loss: 0.1638 - accuracy: 0.9583\n",
            "Epoch 135/200\n",
            "4/4 [==============================] - 0s 4ms/step - loss: 0.1640 - accuracy: 0.9583\n",
            "Epoch 136/200\n",
            "4/4 [==============================] - 0s 4ms/step - loss: 0.1572 - accuracy: 0.9750\n",
            "Epoch 137/200\n",
            "4/4 [==============================] - 0s 4ms/step - loss: 0.1522 - accuracy: 0.9583\n",
            "Epoch 138/200\n",
            "4/4 [==============================] - 0s 4ms/step - loss: 0.1568 - accuracy: 0.9500\n",
            "Epoch 139/200\n",
            "4/4 [==============================] - 0s 3ms/step - loss: 0.1543 - accuracy: 0.9583\n",
            "Epoch 140/200\n",
            "4/4 [==============================] - 0s 7ms/step - loss: 0.1483 - accuracy: 0.9583\n",
            "Epoch 141/200\n",
            "4/4 [==============================] - 0s 4ms/step - loss: 0.1454 - accuracy: 0.9667\n",
            "Epoch 142/200\n",
            "4/4 [==============================] - 0s 4ms/step - loss: 0.1433 - accuracy: 0.9667\n",
            "Epoch 143/200\n",
            "4/4 [==============================] - 0s 4ms/step - loss: 0.1414 - accuracy: 0.9667\n",
            "Epoch 144/200\n",
            "4/4 [==============================] - 0s 5ms/step - loss: 0.1396 - accuracy: 0.9667\n",
            "Epoch 145/200\n",
            "4/4 [==============================] - 0s 4ms/step - loss: 0.1376 - accuracy: 0.9583\n",
            "Epoch 146/200\n",
            "4/4 [==============================] - 0s 4ms/step - loss: 0.1372 - accuracy: 0.9667\n",
            "Epoch 147/200\n",
            "4/4 [==============================] - 0s 5ms/step - loss: 0.1353 - accuracy: 0.9750\n",
            "Epoch 148/200\n",
            "4/4 [==============================] - 0s 4ms/step - loss: 0.1337 - accuracy: 0.9667\n",
            "Epoch 149/200\n",
            "4/4 [==============================] - 0s 4ms/step - loss: 0.1317 - accuracy: 0.9667\n",
            "Epoch 150/200\n",
            "4/4 [==============================] - 0s 4ms/step - loss: 0.1307 - accuracy: 0.9667\n",
            "Epoch 151/200\n",
            "4/4 [==============================] - 0s 4ms/step - loss: 0.1290 - accuracy: 0.9667\n",
            "Epoch 152/200\n",
            "4/4 [==============================] - 0s 4ms/step - loss: 0.1278 - accuracy: 0.9667\n",
            "Epoch 153/200\n",
            "4/4 [==============================] - 0s 5ms/step - loss: 0.1270 - accuracy: 0.9667\n",
            "Epoch 154/200\n",
            "4/4 [==============================] - 0s 5ms/step - loss: 0.1253 - accuracy: 0.9667\n",
            "Epoch 155/200\n",
            "4/4 [==============================] - 0s 4ms/step - loss: 0.1247 - accuracy: 0.9750\n",
            "Epoch 156/200\n",
            "4/4 [==============================] - 0s 4ms/step - loss: 0.1230 - accuracy: 0.9750\n",
            "Epoch 157/200\n",
            "4/4 [==============================] - 0s 4ms/step - loss: 0.1246 - accuracy: 0.9750\n",
            "Epoch 158/200\n",
            "4/4 [==============================] - 0s 5ms/step - loss: 0.1211 - accuracy: 0.9667\n",
            "Epoch 159/200\n",
            "4/4 [==============================] - 0s 4ms/step - loss: 0.1204 - accuracy: 0.9667\n",
            "Epoch 160/200\n",
            "4/4 [==============================] - 0s 4ms/step - loss: 0.1184 - accuracy: 0.9667\n",
            "Epoch 161/200\n",
            "4/4 [==============================] - 0s 4ms/step - loss: 0.1181 - accuracy: 0.9750\n",
            "Epoch 162/200\n",
            "4/4 [==============================] - 0s 5ms/step - loss: 0.1164 - accuracy: 0.9750\n",
            "Epoch 163/200\n",
            "4/4 [==============================] - 0s 4ms/step - loss: 0.1171 - accuracy: 0.9750\n",
            "Epoch 164/200\n",
            "4/4 [==============================] - 0s 4ms/step - loss: 0.1152 - accuracy: 0.9667\n",
            "Epoch 165/200\n",
            "4/4 [==============================] - 0s 5ms/step - loss: 0.1140 - accuracy: 0.9667\n",
            "Epoch 166/200\n",
            "4/4 [==============================] - 0s 6ms/step - loss: 0.1133 - accuracy: 0.9667\n",
            "Epoch 167/200\n",
            "4/4 [==============================] - 0s 4ms/step - loss: 0.1132 - accuracy: 0.9667\n",
            "Epoch 168/200\n",
            "4/4 [==============================] - 0s 5ms/step - loss: 0.1144 - accuracy: 0.9750\n",
            "Epoch 169/200\n",
            "4/4 [==============================] - 0s 5ms/step - loss: 0.1105 - accuracy: 0.9750\n",
            "Epoch 170/200\n",
            "4/4 [==============================] - 0s 4ms/step - loss: 0.1096 - accuracy: 0.9667\n",
            "Epoch 171/200\n",
            "4/4 [==============================] - 0s 4ms/step - loss: 0.1095 - accuracy: 0.9667\n",
            "Epoch 172/200\n",
            "4/4 [==============================] - 0s 5ms/step - loss: 0.1086 - accuracy: 0.9750\n",
            "Epoch 173/200\n",
            "4/4 [==============================] - 0s 5ms/step - loss: 0.1073 - accuracy: 0.9750\n",
            "Epoch 174/200\n",
            "4/4 [==============================] - 0s 5ms/step - loss: 0.1066 - accuracy: 0.9750\n",
            "Epoch 175/200\n",
            "4/4 [==============================] - 0s 4ms/step - loss: 0.1058 - accuracy: 0.9750\n",
            "Epoch 176/200\n",
            "4/4 [==============================] - 0s 4ms/step - loss: 0.1049 - accuracy: 0.9750\n",
            "Epoch 177/200\n",
            "4/4 [==============================] - 0s 4ms/step - loss: 0.1036 - accuracy: 0.9750\n",
            "Epoch 178/200\n",
            "4/4 [==============================] - 0s 5ms/step - loss: 0.1034 - accuracy: 0.9750\n",
            "Epoch 179/200\n",
            "4/4 [==============================] - 0s 5ms/step - loss: 0.1031 - accuracy: 0.9750\n",
            "Epoch 180/200\n",
            "4/4 [==============================] - 0s 4ms/step - loss: 0.1021 - accuracy: 0.9750\n",
            "Epoch 181/200\n",
            "4/4 [==============================] - 0s 5ms/step - loss: 0.1023 - accuracy: 0.9667\n",
            "Epoch 182/200\n",
            "4/4 [==============================] - 0s 4ms/step - loss: 0.1026 - accuracy: 0.9667\n",
            "Epoch 183/200\n",
            "4/4 [==============================] - 0s 4ms/step - loss: 0.0992 - accuracy: 0.9750\n",
            "Epoch 184/200\n",
            "4/4 [==============================] - 0s 4ms/step - loss: 0.1005 - accuracy: 0.9750\n",
            "Epoch 185/200\n",
            "4/4 [==============================] - 0s 5ms/step - loss: 0.0992 - accuracy: 0.9833\n",
            "Epoch 186/200\n",
            "4/4 [==============================] - 0s 5ms/step - loss: 0.1047 - accuracy: 0.9667\n",
            "Epoch 187/200\n",
            "4/4 [==============================] - 0s 5ms/step - loss: 0.1065 - accuracy: 0.9583\n",
            "Epoch 188/200\n",
            "4/4 [==============================] - 0s 4ms/step - loss: 0.0988 - accuracy: 0.9833\n",
            "Epoch 189/200\n",
            "4/4 [==============================] - 0s 4ms/step - loss: 0.0961 - accuracy: 0.9750\n",
            "Epoch 190/200\n",
            "4/4 [==============================] - 0s 4ms/step - loss: 0.0965 - accuracy: 0.9583\n",
            "Epoch 191/200\n",
            "4/4 [==============================] - 0s 5ms/step - loss: 0.0978 - accuracy: 0.9583\n",
            "Epoch 192/200\n",
            "4/4 [==============================] - 0s 4ms/step - loss: 0.0952 - accuracy: 0.9750\n",
            "Epoch 193/200\n",
            "4/4 [==============================] - 0s 4ms/step - loss: 0.0981 - accuracy: 0.9833\n",
            "Epoch 194/200\n",
            "4/4 [==============================] - 0s 4ms/step - loss: 0.0944 - accuracy: 0.9750\n",
            "Epoch 195/200\n",
            "4/4 [==============================] - 0s 4ms/step - loss: 0.0941 - accuracy: 0.9750\n",
            "Epoch 196/200\n",
            "4/4 [==============================] - 0s 5ms/step - loss: 0.0960 - accuracy: 0.9750\n",
            "Epoch 197/200\n",
            "4/4 [==============================] - 0s 4ms/step - loss: 0.0943 - accuracy: 0.9667\n",
            "Epoch 198/200\n",
            "4/4 [==============================] - 0s 5ms/step - loss: 0.0918 - accuracy: 0.9750\n",
            "Epoch 199/200\n",
            "4/4 [==============================] - 0s 4ms/step - loss: 0.0928 - accuracy: 0.9750\n",
            "Epoch 200/200\n",
            "4/4 [==============================] - 0s 4ms/step - loss: 0.0922 - accuracy: 0.9750\n"
          ]
        }
      ]
    },
    {
      "cell_type": "code",
      "source": [
        "plt.figure(figsize=(15,5))\n",
        "plt.plot(range(1,201),h.history['accuracy'],label='acc')\n",
        "plt.plot(range(1,201),h.history['loss'],label='loss')\n",
        "plt.legend()\n",
        "plt.show()"
      ],
      "metadata": {
        "colab": {
          "base_uri": "https://localhost:8080/",
          "height": 317
        },
        "id": "Yb1vz1ODR9aA",
        "outputId": "aa9b6d21-3670-4dc3-eaee-9d42ba54ae68"
      },
      "execution_count": 144,
      "outputs": [
        {
          "output_type": "display_data",
          "data": {
            "text/plain": [
              "<Figure size 1500x500 with 1 Axes>"
            ],
            "image/png": "[encoded data removed]"
          },
          "metadata": {}
        }
      ]
    },
    {
      "cell_type": "code",
      "source": [
        "# 모델 평가\n",
        "model.evaluate(X_test,y_te_one_hot)"
      ],
      "metadata": {
        "colab": {
          "base_uri": "https://localhost:8080/"
        },
        "id": "r8LdlQ2lSTGR",
        "outputId": "1ad2f1e6-1a84-4204-a54c-c5f21f63bd3f"
      },
      "execution_count": 145,
      "outputs": [
        {
          "output_type": "stream",
          "name": "stdout",
          "text": [
            "1/1 [==============================] - 1s 634ms/step - loss: 0.1045 - accuracy: 0.9667\n"
          ]
        },
        {
          "output_type": "execute_result",
          "data": {
            "text/plain": [
              "[0.10449086129665375, 0.9666666388511658]"
            ]
          },
          "metadata": {},
          "execution_count": 145
        }
      ]
    },
    {
      "cell_type": "markdown",
      "source": [
        "### 1. 회귀\n",
        "- 손실함수 (loss) : MSE (평균 제곱 오차)\n",
        "- 출력층 뉴런 갯수 : 1\n",
        "- 출력층 활성화 함수 : linear => 기본값\n",
        "\n",
        "### 2. 이진분류\n",
        "- 손실함수 (loss) : binary_crossentropy\n",
        "- 출력층 뉴런 갯수 : 1\n",
        "- 출력층 활성화 함수 : sigmoid\n",
        "\n",
        "### 3. 다중분류\n",
        "- 손실함수 (loss) : categorical_crossentropy\n",
        "- 출력층 뉴런 갯수 : 정답 갯수 (원핫인코딩 되어진 정답의 종류 만큼)\n",
        "- 출력층 활성화 함수 : softmax"
      ],
      "metadata": {
        "id": "3DWswB01XkOO"
      }
    },
    {
      "cell_type": "code",
      "source": [],
      "metadata": {
        "id": "KPeSqfesX3Ko"
      },
      "execution_count": null,
      "outputs": []
    }
  ]
}