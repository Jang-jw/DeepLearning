{
  "nbformat": 4,
  "nbformat_minor": 0,
  "metadata": {
    "colab": {
      "provenance": [],
      "gpuType": "T4",
      "authorship_tag": "ABX9TyNUO1HWoSUU3f8/NPMbYQKT",
      "include_colab_link": true
    },
    "kernelspec": {
      "name": "python3",
      "display_name": "Python 3"
    },
    "language_info": {
      "name": "python"
    },
    "accelerator": "GPU"
  },
  "cells": [
    {
      "cell_type": "markdown",
      "metadata": {
        "id": "view-in-github",
        "colab_type": "text"
      },
      "source": [
        "<a href=\"https://colab.research.google.com/github/Jang-jw/DeepLearning/blob/main/ex08_%EA%B0%9C%2C%EA%B3%A0%EC%96%91%EC%9D%B4_mlp%2Ccnn%EC%8B%A4%EC%8A%B5.ipynb\" target=\"_parent\"><img src=\"https://colab.research.google.com/assets/colab-badge.svg\" alt=\"Open In Colab\"/></a>"
      ]
    },
    {
      "cell_type": "code",
      "execution_count": 1,
      "metadata": {
        "id": "dwEjMPmoVdov",
        "colab": {
          "base_uri": "https://localhost:8080/"
        },
        "outputId": "4ee32b24-aea8-4092-a0c8-af922cbad233"
      },
      "outputs": [
        {
          "output_type": "stream",
          "name": "stdout",
          "text": [
            "Mounted at /content/drive\n"
          ]
        }
      ],
      "source": [
        "# ex08_개,고양이_mlp,cnn실습.ipynb\n",
        "# 드라이브 연동\n",
        "from google.colab import drive\n",
        "drive.mount('/content/drive')"
      ]
    },
    {
      "cell_type": "code",
      "source": [
        "# 딥러닝 폴더까지 경로 이동\n",
        "%cd /content/drive/MyDrive/Colab Notebooks/DeepLearning"
      ],
      "metadata": {
        "colab": {
          "base_uri": "https://localhost:8080/"
        },
        "id": "3PYpUcHqV2mu",
        "outputId": "919bd504-2132-4955-f0e1-e36ea40db17f"
      },
      "execution_count": 2,
      "outputs": [
        {
          "output_type": "stream",
          "name": "stdout",
          "text": [
            "/content/drive/MyDrive/Colab Notebooks/DeepLearning\n"
          ]
        }
      ]
    },
    {
      "cell_type": "markdown",
      "source": [
        "### 목표\n",
        "- mlp, cnn 모델을 활용하여 이미지 분류 실습을 진행해보자\n",
        "- 개, 고양이 2개의 클래스를 분류하는 이진분류를 진행해보자\n",
        "- 성능을 높이기 위한 노력을 진행해보자\n",
        "  - 이미지 증식 : 이미지 개체수를 늘려서 학습시킴\n",
        "  - 전이학습 : 사전에 학습이되어 성능이 좋은 분류 모델을 연결하여 사용해보자"
      ],
      "metadata": {
        "id": "MC-5iz1nWM5k"
      }
    },
    {
      "cell_type": "code",
      "source": [
        "# 환경세팅\n",
        "import numpy as np\n",
        "import pandas as pd\n",
        "import matplotlib.pyplot as plt"
      ],
      "metadata": {
        "id": "F_CLSZ1WWiGV"
      },
      "execution_count": 3,
      "outputs": []
    },
    {
      "cell_type": "code",
      "source": [
        "# npz 파일 불러오기\n",
        "# X_train,X_test,y_train,y_test 총 4 개 잘 가지고 있는지 확인\n",
        "# np.load('경로설정')\n",
        "data=np.load('./data/npz_cats_vs_dogs.npz')\n",
        "type(data)"
      ],
      "metadata": {
        "colab": {
          "base_uri": "https://localhost:8080/"
        },
        "id": "aOtfyulcWuQk",
        "outputId": "71a9da87-ba36-4b40-92fa-6c33e40150d9"
      },
      "execution_count": 4,
      "outputs": [
        {
          "output_type": "execute_result",
          "data": {
            "text/plain": [
              "numpy.lib.npyio.NpzFile"
            ]
          },
          "metadata": {},
          "execution_count": 4
        }
      ]
    },
    {
      "cell_type": "code",
      "source": [
        "len(data)\n",
        "# 각 변수에 나눠서 담아주기\n",
        "X_train=data['X_train']\n",
        "X_test=data['X_test']\n",
        "y_train=data['y_train']\n",
        "y_test=data['y_test']\n",
        "\n",
        "# 크기확인\n",
        "print('훈련셋:',X_train.shape,y_train.shape)\n",
        "print('테스트셋:',X_test.shape,y_test.shape)"
      ],
      "metadata": {
        "id": "sVair7eZXHiV",
        "colab": {
          "base_uri": "https://localhost:8080/"
        },
        "outputId": "ad3feff0-106b-492c-d592-09e2331bc164"
      },
      "execution_count": 5,
      "outputs": [
        {
          "output_type": "stream",
          "name": "stdout",
          "text": [
            "훈련셋: (2000, 224, 224, 3) (2000,)\n",
            "테스트셋: (2000, 224, 224, 3) (1000,)\n"
          ]
        }
      ]
    },
    {
      "cell_type": "markdown",
      "source": [
        "#### mlp 모델 생성\n",
        "- mlp 기반 모델 설계\n",
        "- complie : 학습 및 평가 방법 설정\n",
        "- fit : 학습 및 학습 현황 시각화\n",
        "- predict / evaluate"
      ],
      "metadata": {
        "id": "7592toaWXg92"
      }
    },
    {
      "cell_type": "code",
      "source": [
        "# 이미지 데이터 다루기 위해서 필요한  tf 도구\n",
        "# 2차원 => 1차원, 3차원 => 1차원 펴주는 기능 : Flatten()\n",
        "from tensorflow.keras import Sequential\n",
        "from tensorflow.keras.layers import Dense, Flatten\n",
        "# 조기학습 중단 - 설정한 반복횟수만큼 다 학습할 필요가 없다고 생각되면 연결\n",
        "# 성능향상이 없는데 계속 반복할 경우 과대적합 우려가 발생\n",
        "from tensorflow.keras.callbacks import EarlyStopping"
      ],
      "metadata": {
        "id": "o8iP-3l9YdUz"
      },
      "execution_count": 6,
      "outputs": []
    },
    {
      "cell_type": "code",
      "source": [
        "X_train[0].shape"
      ],
      "metadata": {
        "colab": {
          "base_uri": "https://localhost:8080/"
        },
        "id": "n8F53BZgaes9",
        "outputId": "6b7b1014-db47-48a0-dd2c-7a8c2a3f94a4"
      },
      "execution_count": 7,
      "outputs": [
        {
          "output_type": "execute_result",
          "data": {
            "text/plain": [
              "(224, 224, 3)"
            ]
          },
          "metadata": {},
          "execution_count": 7
        }
      ]
    },
    {
      "cell_type": "code",
      "source": [
        "# 모델 설계\n",
        "# 뼈대 구축\n",
        "mlp_model=Sequential()\n",
        "\n",
        "# 입력층\n",
        "# 3차원 => 1차원 펴주는 기능\n",
        "# 이미지 한장의 크기 :\n",
        "mlp_model.add(Flatten(input_shape=(224,224,3)))\n",
        "\n",
        "# 중간층\n",
        "# 3개 (256, 128, 64)\n",
        "mlp_model.add(Dense(256,activation='relu'))\n",
        "mlp_model.add(Dense(128,activation='relu'))\n",
        "mlp_model.add(Dense(64,activation='relu'))\n",
        "\n",
        "# 출력층\n",
        "# 이진분류 내용으로 설정\n",
        "# units = 1, activation = 'sigmoid'\n",
        "mlp_model.add(Dense(1,activation='sigmoid'))\n",
        "\n",
        "# 모델 요약\n",
        "mlp_model.summary()"
      ],
      "metadata": {
        "id": "2fo2j7urZR-r",
        "colab": {
          "base_uri": "https://localhost:8080/"
        },
        "outputId": "8de21241-a1bc-4b6e-e5be-7e3aba46850c"
      },
      "execution_count": 8,
      "outputs": [
        {
          "output_type": "stream",
          "name": "stdout",
          "text": [
            "Model: \"sequential\"\n",
            "_________________________________________________________________\n",
            " Layer (type)                Output Shape              Param #   \n",
            "=================================================================\n",
            " flatten (Flatten)           (None, 150528)            0         \n",
            "                                                                 \n",
            " dense (Dense)               (None, 256)               38535424  \n",
            "                                                                 \n",
            " dense_1 (Dense)             (None, 128)               32896     \n",
            "                                                                 \n",
            " dense_2 (Dense)             (None, 64)                8256      \n",
            "                                                                 \n",
            " dense_3 (Dense)             (None, 1)                 65        \n",
            "                                                                 \n",
            "=================================================================\n",
            "Total params: 38576641 (147.16 MB)\n",
            "Trainable params: 38576641 (147.16 MB)\n",
            "Non-trainable params: 0 (0.00 Byte)\n",
            "_________________________________________________________________\n"
          ]
        }
      ]
    },
    {
      "cell_type": "code",
      "source": [
        "# 컴파일\n",
        "mlp_model.compile(loss='binary_crossentropy',\n",
        "                  optimizer='adam',\n",
        "                  metrics=['accuracy'])\n",
        "\n",
        "# 조기학습 중단\n",
        "# 특정값을 기준으로 5 번 정도 값이 갱신이 되지 않는다면 학습 멈춤\n",
        "# 특정값 => 검증데이터 정확도 기준\n",
        "f_early=EarlyStopping('val_accuracy', # 멈추는 기준값\n",
        "                      patience=5, # 성능 개선을 기다리는 횟수\n",
        "                      verbose=1) # 조기학습 중단 메세지 출력\n",
        "\n",
        "# 학습 코드까지 짜보기\n",
        "# 50 반복횟수\n",
        "# 검증데이터 연결하는 키워드 :\n",
        "# 1. validation_split = 0.3 (30%) , 2. validation_data = (검증문제, 검증답)\n",
        "# 조기학습 중단 연결\n",
        "mlp_his=mlp_model.fit(X_train,y_train,\n",
        "                      validation_split=0.3,\n",
        "                      epochs=50,\n",
        "                      callbacks=[f_early])"
      ],
      "metadata": {
        "id": "IJgvXxRIcABm",
        "colab": {
          "base_uri": "https://localhost:8080/"
        },
        "outputId": "c83abec6-a733-4efa-a2f9-8fa114d3d60a"
      },
      "execution_count": 9,
      "outputs": [
        {
          "output_type": "stream",
          "name": "stdout",
          "text": [
            "Epoch 1/50\n",
            "44/44 [==============================] - 8s 29ms/step - loss: 4225.9917 - accuracy: 0.5807 - val_loss: 5025.2817 - val_accuracy: 0.0000e+00\n",
            "Epoch 2/50\n",
            "44/44 [==============================] - 1s 17ms/step - loss: 617.4614 - accuracy: 0.6207 - val_loss: 449.3107 - val_accuracy: 0.1783\n",
            "Epoch 3/50\n",
            "44/44 [==============================] - 1s 17ms/step - loss: 558.4559 - accuracy: 0.6379 - val_loss: 3049.2959 - val_accuracy: 0.0000e+00\n",
            "Epoch 4/50\n",
            "44/44 [==============================] - 1s 15ms/step - loss: 402.4485 - accuracy: 0.6279 - val_loss: 2611.0349 - val_accuracy: 0.0000e+00\n",
            "Epoch 5/50\n",
            "44/44 [==============================] - 1s 14ms/step - loss: 343.2751 - accuracy: 0.6400 - val_loss: 2450.2402 - val_accuracy: 0.0000e+00\n",
            "Epoch 6/50\n",
            "44/44 [==============================] - 1s 14ms/step - loss: 283.4824 - accuracy: 0.6450 - val_loss: 1278.0682 - val_accuracy: 0.0000e+00\n",
            "Epoch 7/50\n",
            "44/44 [==============================] - 1s 15ms/step - loss: 225.2314 - accuracy: 0.6521 - val_loss: 659.8315 - val_accuracy: 0.0317\n",
            "Epoch 7: early stopping\n"
          ]
        }
      ]
    },
    {
      "cell_type": "code",
      "source": [
        "# val_accuracy, accuracy 선 그래프 시각화\n",
        "# x축 반복횟수, y축 val_accuracy, accuracy\n",
        "plt.figure(figsize=(15,4))\n",
        "x_range=len(mlp_his.history['accuracy'])\n",
        "plt.plot(range(1,x_range+1),mlp_his.history['accuracy'],label='mlp acc')\n",
        "plt.plot(range(1,x_range+1),mlp_his.history['val_accuracy'],label='mlp val_acc')\n",
        "plt.legend()\n",
        "plt.show()"
      ],
      "metadata": {
        "colab": {
          "base_uri": "https://localhost:8080/",
          "height": 261
        },
        "id": "h1hpMn3qexrd",
        "outputId": "60b1609c-b6b9-4673-8dbd-da9421b7fa95"
      },
      "execution_count": 10,
      "outputs": [
        {
          "output_type": "display_data",
          "data": {
            "text/plain": [
              "<Figure size 1500x400 with 1 Axes>"
            ],
            "image/png": "[encoded data removed]"
          },
          "metadata": {}
        }
      ]
    },
    {
      "cell_type": "code",
      "source": [
        "# 복잡한 데이터에 비해 모델은 너무 단순한 상태\n",
        "# 일반 다층 퍼셋트론 모델은 복잡한 이미지에 대한 학습 성능이 떨어짐\n",
        "# 복잡한 이미지에 대해, 그 안의 특성값에 대해 잘 학습할 수 있는 도구가 없을까?"
      ],
      "metadata": {
        "id": "6fKQkmRtlUl1"
      },
      "execution_count": 11,
      "outputs": []
    }
  ]
}