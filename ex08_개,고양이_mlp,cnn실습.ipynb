{
  "nbformat": 4,
  "nbformat_minor": 0,
  "metadata": {
    "colab": {
      "provenance": [],
      "gpuType": "T4",
      "authorship_tag": "ABX9TyOd4VPE1xp6On6EARriScGF",
      "include_colab_link": true
    },
    "kernelspec": {
      "name": "python3",
      "display_name": "Python 3"
    },
    "language_info": {
      "name": "python"
    },
    "accelerator": "GPU"
  },
  "cells": [
    {
      "cell_type": "markdown",
      "metadata": {
        "id": "view-in-github",
        "colab_type": "text"
      },
      "source": [
        "<a href=\"https://colab.research.google.com/github/Jang-jw/DeepLearning/blob/main/ex08_%EA%B0%9C%2C%EA%B3%A0%EC%96%91%EC%9D%B4_mlp%2Ccnn%EC%8B%A4%EC%8A%B5.ipynb\" target=\"_parent\"><img src=\"https://colab.research.google.com/assets/colab-badge.svg\" alt=\"Open In Colab\"/></a>"
      ]
    },
    {
      "cell_type": "code",
      "execution_count": null,
      "metadata": {
        "id": "dwEjMPmoVdov",
        "colab": {
          "base_uri": "https://localhost:8080/"
        },
        "outputId": "9cf0ba0d-afeb-41cf-a0e9-3034f03368f2"
      },
      "outputs": [
        {
          "output_type": "stream",
          "name": "stdout",
          "text": [
            "Mounted at /content/drive\n"
          ]
        }
      ],
      "source": [
        "# ex08_개,고양이_mlp,cnn실습.ipynb\n",
        "# 드라이브 연동\n",
        "from google.colab import drive\n",
        "drive.mount('/content/drive')"
      ]
    },
    {
      "cell_type": "code",
      "source": [
        "# 딥러닝 폴더까지 경로 이동\n",
        "%cd /content/drive/MyDrive/Colab Notebooks/DeepLearning"
      ],
      "metadata": {
        "colab": {
          "base_uri": "https://localhost:8080/"
        },
        "id": "3PYpUcHqV2mu",
        "outputId": "d1836d55-6784-4e92-bff0-47c0f290ee74"
      },
      "execution_count": null,
      "outputs": [
        {
          "output_type": "stream",
          "name": "stdout",
          "text": [
            "/content/drive/MyDrive/Colab Notebooks/DeepLearning\n"
          ]
        }
      ]
    },
    {
      "cell_type": "markdown",
      "source": [
        "### 목표\n",
        "- mlp, cnn 모델을 활용하여 이미지 분류 실습을 진행해보자\n",
        "- 개, 고양이 2개의 클래스를 분류하는 이진분류를 진행해보자\n",
        "- 성능을 높이기 위한 노력을 진행해보자\n",
        "  - 이미지 증식 : 이미지 개체수를 늘려서 학습시킴\n",
        "  - 전이학습 : 사전에 학습이되어 성능이 좋은 분류 모델을 연결하여 사용해보자"
      ],
      "metadata": {
        "id": "MC-5iz1nWM5k"
      }
    },
    {
      "cell_type": "code",
      "source": [
        "# 환경세팅\n",
        "import numpy as np\n",
        "import pandas as pd\n",
        "import matplotlib.pyplot as plt"
      ],
      "metadata": {
        "id": "F_CLSZ1WWiGV"
      },
      "execution_count": null,
      "outputs": []
    },
    {
      "cell_type": "code",
      "source": [
        "# npz 파일 불러오기\n",
        "# X_train,X_test,y_train,y_test 총 4 개 잘 가지고 있는지 확인\n",
        "# np.load('경로설정')\n",
        "data=np.load('./data/npz_cats_vs_dogs.npz')\n",
        "type(data)"
      ],
      "metadata": {
        "colab": {
          "base_uri": "https://localhost:8080/"
        },
        "id": "aOtfyulcWuQk",
        "outputId": "e1891bbd-05f3-4dbb-caf5-c5fcd9f00404"
      },
      "execution_count": null,
      "outputs": [
        {
          "output_type": "execute_result",
          "data": {
            "text/plain": [
              "numpy.lib.npyio.NpzFile"
            ]
          },
          "metadata": {},
          "execution_count": 4
        }
      ]
    },
    {
      "cell_type": "code",
      "source": [
        "len(data)\n",
        "# 각 변수에 나눠서 담아주기\n",
        "X_train=data['X_train']\n",
        "X_test=data['X_test']\n",
        "y_train=data['y_train']\n",
        "y_test=data['y_test']\n",
        "\n",
        "# 크기확인\n",
        "print('훈련셋:',X_train.shape,y_train.shape)\n",
        "print('테스트셋:',X_test.shape,y_test.shape)"
      ],
      "metadata": {
        "id": "sVair7eZXHiV",
        "colab": {
          "base_uri": "https://localhost:8080/"
        },
        "outputId": "c88db094-a5d6-4395-e056-1fe896e13c3e"
      },
      "execution_count": null,
      "outputs": [
        {
          "output_type": "stream",
          "name": "stdout",
          "text": [
            "훈련셋: (2000, 224, 224, 3) (2000,)\n",
            "테스트셋: (2000, 224, 224, 3) (1000,)\n"
          ]
        }
      ]
    },
    {
      "cell_type": "markdown",
      "source": [
        "#### mlp 모델 생성\n",
        "- mlp 기반 모델 설계\n",
        "- complie : 학습 및 평가 방법 설정\n",
        "- fit : 학습 및 학습 현황 시각화\n",
        "- predict / evaluate"
      ],
      "metadata": {
        "id": "7592toaWXg92"
      }
    },
    {
      "cell_type": "code",
      "source": [
        "# 이미지 데이터 다루기 위해서 필요한  tf 도구\n",
        "# 2차원 => 1차원, 3차원 => 1차원 펴주는 기능 : Flatten()\n",
        "from tensorflow.keras import Sequential\n",
        "from tensorflow.keras.layers import Dense, Flatten\n",
        "# 조기학습 중단 - 설정한 반복횟수만큼 다 학습할 필요가 없다고 생각되면 연결\n",
        "# 성능향상이 없는데 계속 반복할 경우 과대적합 우려가 발생\n",
        "from tensorflow.keras.callbacks import EarlyStopping"
      ],
      "metadata": {
        "id": "o8iP-3l9YdUz"
      },
      "execution_count": null,
      "outputs": []
    },
    {
      "cell_type": "code",
      "source": [
        "X_train[0].shape"
      ],
      "metadata": {
        "colab": {
          "base_uri": "https://localhost:8080/"
        },
        "id": "n8F53BZgaes9",
        "outputId": "8147975f-aebd-470f-9cbb-6b3b5213bad7"
      },
      "execution_count": null,
      "outputs": [
        {
          "output_type": "execute_result",
          "data": {
            "text/plain": [
              "(224, 224, 3)"
            ]
          },
          "metadata": {},
          "execution_count": 34
        }
      ]
    },
    {
      "cell_type": "code",
      "source": [
        "# 모델 설계\n",
        "# 뼈대 구축\n",
        "mlp_model=Sequential()\n",
        "\n",
        "# 입력층\n",
        "# 3차원 => 1차원 펴주는 기능\n",
        "# 이미지 한장의 크기 :\n",
        "mlp_model.add(Flatten(input_shape=(224,224,3)))\n",
        "\n",
        "# 중간층\n",
        "# 3개 (256, 128, 64)\n",
        "mlp_model.add(Dense(256,activation='relu'))\n",
        "mlp_model.add(Dense(128,activation='relu'))\n",
        "mlp_model.add(Dense(64,activation='relu'))\n",
        "\n",
        "# 출력층\n",
        "# 이진분류 내용으로 설정\n",
        "# units = 1, activation = 'sigmoid'\n",
        "mlp_model.add(Dense(1,activation='sigmoid'))\n",
        "\n",
        "# 모델 요약\n",
        "mlp_model.summary()"
      ],
      "metadata": {
        "id": "2fo2j7urZR-r",
        "colab": {
          "base_uri": "https://localhost:8080/"
        },
        "outputId": "fdf136f9-3873-4668-b5ff-ad9ffbb1aa7a"
      },
      "execution_count": null,
      "outputs": [
        {
          "output_type": "stream",
          "name": "stdout",
          "text": [
            "Model: \"sequential\"\n",
            "_________________________________________________________________\n",
            " Layer (type)                Output Shape              Param #   \n",
            "=================================================================\n",
            " flatten (Flatten)           (None, 150528)            0         \n",
            "                                                                 \n",
            " dense (Dense)               (None, 256)               38535424  \n",
            "                                                                 \n",
            " dense_1 (Dense)             (None, 128)               32896     \n",
            "                                                                 \n",
            " dense_2 (Dense)             (None, 64)                8256      \n",
            "                                                                 \n",
            " dense_3 (Dense)             (None, 1)                 65        \n",
            "                                                                 \n",
            "=================================================================\n",
            "Total params: 38576641 (147.16 MB)\n",
            "Trainable params: 38576641 (147.16 MB)\n",
            "Non-trainable params: 0 (0.00 Byte)\n",
            "_________________________________________________________________\n"
          ]
        }
      ]
    },
    {
      "cell_type": "code",
      "source": [
        "# validation_data setting\n",
        "# tarin_test_split using\n",
        "# X_train,X_val,y_train,y_val=train_test_split(X_train,y_train,\n",
        "#                                              test_size=0.3,\n",
        "#                                              random_state=1)"
      ],
      "metadata": {
        "id": "_ArQt6UWG-Yj"
      },
      "execution_count": null,
      "outputs": []
    },
    {
      "cell_type": "code",
      "source": [
        "# 컴파일\n",
        "mlp_model.compile(loss='binary_crossentropy',\n",
        "                  optimizer='adam',\n",
        "                  metrics=['accuracy'])\n",
        "\n",
        "# 조기학습 중단\n",
        "# 특정값을 기준으로 5 번 정도 값이 갱신이 되지 않는다면 학습 멈춤\n",
        "# 특정값 => 검증데이터 정확도 기준\n",
        "f_early=EarlyStopping('val_accuracy', # 멈추는 기준값\n",
        "                      patience=5, # 성능 개선을 기다리는 횟수\n",
        "                      verbose=1) # 조기학습 중단 메세지 출력\n",
        "\n",
        "# 학습 코드까지 짜보기\n",
        "# 50 반복횟수\n",
        "# 검증데이터 연결하는 키워드 :\n",
        "# 1. validation_split = 0.3 (30%) , 2. validation_data = (검증문제, 검증답)\n",
        "# 조기학습 중단 연결\n",
        "mlp_his=mlp_model.fit(X_train,y_train,\n",
        "                      validation_split=0.3,\n",
        "                      # validation_data=(X_val,y_val),\n",
        "                      epochs=50,\n",
        "                      callbacks=[f_early])"
      ],
      "metadata": {
        "id": "IJgvXxRIcABm",
        "colab": {
          "base_uri": "https://localhost:8080/"
        },
        "outputId": "ee1af140-12e0-4d93-bf3d-c5f147e3f718"
      },
      "execution_count": null,
      "outputs": [
        {
          "output_type": "stream",
          "name": "stdout",
          "text": [
            "Epoch 1/50\n",
            "44/44 [==============================] - 7s 24ms/step - loss: 2006.3007 - accuracy: 0.6171 - val_loss: 9.4300 - val_accuracy: 0.9750\n",
            "Epoch 2/50\n",
            "44/44 [==============================] - 1s 14ms/step - loss: 1215.9590 - accuracy: 0.6171 - val_loss: 1697.7106 - val_accuracy: 0.0000e+00\n",
            "Epoch 3/50\n",
            "44/44 [==============================] - 1s 15ms/step - loss: 664.4294 - accuracy: 0.6000 - val_loss: 563.9814 - val_accuracy: 0.1650\n",
            "Epoch 4/50\n",
            "44/44 [==============================] - 1s 15ms/step - loss: 317.4059 - accuracy: 0.6464 - val_loss: 146.1438 - val_accuracy: 0.5133\n",
            "Epoch 5/50\n",
            "44/44 [==============================] - 1s 16ms/step - loss: 203.9350 - accuracy: 0.6557 - val_loss: 102.2943 - val_accuracy: 0.5917\n",
            "Epoch 6/50\n",
            "44/44 [==============================] - 1s 17ms/step - loss: 278.9867 - accuracy: 0.6479 - val_loss: 3.6511 - val_accuracy: 0.9800\n",
            "Epoch 7/50\n",
            "44/44 [==============================] - 1s 17ms/step - loss: 596.7445 - accuracy: 0.6186 - val_loss: 186.0370 - val_accuracy: 0.4900\n",
            "Epoch 8/50\n",
            "44/44 [==============================] - 1s 17ms/step - loss: 227.0515 - accuracy: 0.6700 - val_loss: 103.4849 - val_accuracy: 0.5900\n",
            "Epoch 9/50\n",
            "44/44 [==============================] - 1s 17ms/step - loss: 134.9461 - accuracy: 0.6614 - val_loss: 1026.1223 - val_accuracy: 0.0000e+00\n",
            "Epoch 10/50\n",
            "44/44 [==============================] - 1s 14ms/step - loss: 308.1548 - accuracy: 0.6186 - val_loss: 621.1145 - val_accuracy: 0.0117\n",
            "Epoch 11/50\n",
            "44/44 [==============================] - 1s 14ms/step - loss: 148.0841 - accuracy: 0.6757 - val_loss: 39.7968 - val_accuracy: 0.6883\n",
            "Epoch 11: early stopping\n"
          ]
        }
      ]
    },
    {
      "cell_type": "code",
      "source": [
        "# val_accuracy, accuracy 선 그래프 시각화\n",
        "# x축 반복횟수, y축 val_accuracy, accuracy\n",
        "plt.figure(figsize=(15,4))\n",
        "x_range=len(mlp_his.history['accuracy'])\n",
        "plt.plot(range(1,x_range+1),mlp_his.history['accuracy'],label='mlp acc')\n",
        "plt.plot(range(1,x_range+1),mlp_his.history['val_accuracy'],label='mlp val_acc')\n",
        "plt.legend()\n",
        "plt.show()"
      ],
      "metadata": {
        "colab": {
          "base_uri": "https://localhost:8080/",
          "height": 259
        },
        "id": "h1hpMn3qexrd",
        "outputId": "19259f0f-1051-46ef-f1be-71e9ed44f6dc"
      },
      "execution_count": null,
      "outputs": [
        {
          "output_type": "display_data",
          "data": {
            "text/plain": [
              "<Figure size 1500x400 with 1 Axes>"
            ],
            "image/png": "[encoded data removed]"
          },
          "metadata": {}
        }
      ]
    },
    {
      "cell_type": "code",
      "source": [
        "# 복잡한 데이터에 비해 모델은 너무 단순한 상태\n",
        "# 일반 다층 퍼셋트론 모델은 복잡한 이미지에 대한 학습 성능이 떨어짐\n",
        "# 복잡한 이미지에 대해, 그 안의 특성값에 대해 잘 학습할 수 있는 도구가 없을까?"
      ],
      "metadata": {
        "id": "6fKQkmRtlUl1"
      },
      "execution_count": null,
      "outputs": []
    },
    {
      "cell_type": "markdown",
      "source": [
        "#### CNN 모델 생성\n",
        "  - 1. 모델 설계\n",
        "    - 뼈대 구축\n",
        "    - 특성 추출부 (합성곱 Conv2D, Pooling2D)\n",
        "    - 분류부 (전결합층, 완전연결층, mlp(이진분류))\n",
        "  - 2. 모델 컴파일 : 학습 / 평가 방법 설정\n",
        "  - 3. 모델 학습 및 시각화\n",
        "  - 4. 모델 예측 및 평가"
      ],
      "metadata": {
        "id": "xhos3Cv1HfVE"
      }
    },
    {
      "cell_type": "code",
      "source": [
        "from tensorflow.keras import Sequential\n",
        "from tensorflow.keras.layers import Dense, Flatten, Conv2D, MaxPooling2D\n",
        "# 조기학습중단, 최적모델저장\n",
        "from tensorflow.keras.callbacks import EarlyStopping, ModelCheckpoint"
      ],
      "metadata": {
        "id": "_0k6o9b0IKGn"
      },
      "execution_count": null,
      "outputs": []
    },
    {
      "cell_type": "code",
      "source": [
        "# 모델 생성\n",
        "cnn_model=Sequential() # 뼈대\n",
        "\n",
        "# 특성추출부 => 합성곱층 연결 : 주요 대상에 집중! => 중요한 특징을 추출 => 추출\n",
        "# 입력에 내용 연결\n",
        "# 필터 (커널, 마스크, 돋보기) 개수, 필터 크기,\n",
        "# 활성화 함수, 패딩 (연산 후 결과 이미지 크기 설정), 스트라이드 (이동간격)\n",
        "# 최대풀링 : 지역 내에서 더 중요한 값만 추출하자!\n",
        "cnn_model.add(Conv2D(filters=32,kernel_size=(3,3),\n",
        "                     padding='same',input_shape=(224,224,3),activation='relu'))\n",
        "cnn_model.add(MaxPooling2D(pool_size=(2,2))) # pool_size : 특정 지역에 접근하는 크기\n",
        "# 데이터 안의 대상이 미묘하게 위치가 바뀌어도 지역내의 최댓값은 동일하게 추출\n",
        "# => 위치의 영향을 적게 받음\n",
        "cnn_model.add(Conv2D(filters=64,kernel_size=(3,3),padding='same',activation='relu'))\n",
        "cnn_model.add(MaxPooling2D(pool_size=(2,2)))\n",
        "cnn_model.add(Conv2D(filters=128,kernel_size=(3,3),padding='same',activation='relu'))\n",
        "cnn_model.add(MaxPooling2D(pool_size=(2,2)))\n",
        "\n",
        "# 전결합층 (완전연결층,mlp) => 분류부\n",
        "# 1차원 받아들일 수 있음 => Flatten\n",
        "cnn_model.add(Flatten())\n",
        "# 중간층 : conv 주요 특성 추출 => 중간층 1 ~ 2 층 정도로 얕게 쌓아줌\n",
        "cnn_model.add(Dense(256,activation='relu'))\n",
        "# 출력층 (이진분류)\n",
        "cnn_model.add(Dense(1,activation='sigmoid'))\n",
        "# 모델 정보 요약\n",
        "cnn_model.summary()"
      ],
      "metadata": {
        "colab": {
          "base_uri": "https://localhost:8080/"
        },
        "id": "D-c0GpoCI-LR",
        "outputId": "767d3ff4-3661-4b60-848c-f08a45edeb6f"
      },
      "execution_count": null,
      "outputs": [
        {
          "output_type": "stream",
          "name": "stdout",
          "text": [
            "Model: \"sequential_4\"\n",
            "_________________________________________________________________\n",
            " Layer (type)                Output Shape              Param #   \n",
            "=================================================================\n",
            " conv2d_5 (Conv2D)           (None, 224, 224, 32)      896       \n",
            "                                                                 \n",
            " max_pooling2d_3 (MaxPoolin  (None, 112, 112, 32)      0         \n",
            " g2D)                                                            \n",
            "                                                                 \n",
            " conv2d_6 (Conv2D)           (None, 112, 112, 64)      18496     \n",
            "                                                                 \n",
            " max_pooling2d_4 (MaxPoolin  (None, 56, 56, 64)        0         \n",
            " g2D)                                                            \n",
            "                                                                 \n",
            " conv2d_7 (Conv2D)           (None, 56, 56, 128)       73856     \n",
            "                                                                 \n",
            " max_pooling2d_5 (MaxPoolin  (None, 28, 28, 128)       0         \n",
            " g2D)                                                            \n",
            "                                                                 \n",
            " flatten_2 (Flatten)         (None, 100352)            0         \n",
            "                                                                 \n",
            " dense_6 (Dense)             (None, 256)               25690368  \n",
            "                                                                 \n",
            " dense_7 (Dense)             (None, 1)                 257       \n",
            "                                                                 \n",
            "=================================================================\n",
            "Total params: 25783873 (98.36 MB)\n",
            "Trainable params: 25783873 (98.36 MB)\n",
            "Non-trainable params: 0 (0.00 Byte)\n",
            "_________________________________________________________________\n"
          ]
        }
      ]
    },
    {
      "cell_type": "code",
      "source": [
        "import os\n",
        "# 컴파일\n",
        "cnn_model.compile(loss='binary_crossentropy',\n",
        "                  optimizer='adam',\n",
        "                  metrics=['accuracy'])\n",
        "\n",
        "# 조기학습중단\n",
        "f_early=EarlyStopping(monitor='val_accuracy',\n",
        "                      patience=5,\n",
        "                      verbose=1)\n",
        "# 최적의 모델 찾아서 저장 (모델체크포인트)\n",
        "# 모델 저장될 경로, 파일명 설정\n",
        "model_dir='./model/'\n",
        "\n",
        "if not os.path.exists(model_dir):\n",
        "  # 폴더 x, 해당 폴더를 생성\n",
        "  os.mkdir(model_dir)\n",
        "\n",
        "# 파일명을 설정할 때 형식 정해져있음\n",
        "# 정규식 표현법 {변수명:출력형태}\n",
        "# {epoch:03:d}: 반복횟수 변수 값을 가져와서 정수형 3 자리로 표현\n",
        "# 3 자리보다 작으면 왼쪽부터 0 으로 채움 : 3 => 003\n",
        "# {val_accuracy:.2f}: 소숫점 2 자리까지 표시 (0.576541 => 0.58)\n",
        "# 'cat_vs_dog_model_001_0.58.hdf5\n",
        "file_path=model_dir+'cat_vs_dog_model_{epoch:03d}_{val_accuracy:.2f}.hdf5'\n",
        "\n",
        "# monitor = 'val_accuracy' : 검증 정확도를 기준으로 확인하면서 저장할 것\n",
        "# save_best_only=True : 이전 모델보다 더 나은 모델일 경우 저장할 것\n",
        "# verbose=1 : 저장되는 현황을 출력할 것\n",
        "f_mckp=ModelCheckpoint(filepath=file_path,\n",
        "                       monitor='val_accuracy',\n",
        "                       verbose=1,\n",
        "                       save_best_only=True)"
      ],
      "metadata": {
        "id": "upvhoiqeMvBI"
      },
      "execution_count": null,
      "outputs": []
    },
    {
      "cell_type": "code",
      "source": [
        "# 학습\n",
        "# 50 반복\n",
        "# 검증 데이터 20%\n",
        "# callback => 조기학습중단, 모델 체크포인트\n",
        "cnn_his=cnn_model.fit(X_train,y_train,\n",
        "                      validation_split=0.2,\n",
        "                      epochs=50,\n",
        "                      callbacks=[f_early,f_mckp])"
      ],
      "metadata": {
        "colab": {
          "base_uri": "https://localhost:8080/"
        },
        "id": "VYQLuHsBTyGS",
        "outputId": "f88cd872-1597-49ed-af2a-7e563e7d30c9"
      },
      "execution_count": null,
      "outputs": [
        {
          "output_type": "stream",
          "name": "stdout",
          "text": [
            "Epoch 1/50\n",
            "49/50 [============================>.] - ETA: 0s - loss: 114.7156 - accuracy: 0.5912\n",
            "Epoch 1: val_accuracy improved from -inf to 0.07500, saving model to ./model/cat_vs_dog_model_001_0.08.hdf5\n"
          ]
        },
        {
          "output_type": "stream",
          "name": "stderr",
          "text": [
            "/usr/local/lib/python3.10/dist-packages/keras/src/engine/training.py:3000: UserWarning: You are saving your model as an HDF5 file via `model.save()`. This file format is considered legacy. We recommend using instead the native Keras format, e.g. `model.save('my_model.keras')`.\n",
            "  saving_api.save_model(\n"
          ]
        },
        {
          "output_type": "stream",
          "name": "stdout",
          "text": [
            "\b\b\b\b\b\b\b\b\b\b\b\b\b\b\b\b\b\b\b\b\b\b\b\b\b\b\b\b\b\b\b\b\b\b\b\b\b\b\b\b\b\b\b\b\b\b\b\b\b\b\b\b\b\b\b\b\b\b\b\b\b\b\b\b\b\b\b\b\b\b\b\b\b\b\b\b\b\b\b\b\b\b\b\b\r50/50 [==============================] - 12s 92ms/step - loss: 112.4354 - accuracy: 0.5888 - val_loss: 0.7716 - val_accuracy: 0.0750\n",
            "Epoch 2/50\n",
            "49/50 [============================>.] - ETA: 0s - loss: 0.6370 - accuracy: 0.6473\n",
            "Epoch 2: val_accuracy improved from 0.07500 to 0.09750, saving model to ./model/cat_vs_dog_model_002_0.10.hdf5\n",
            "50/50 [==============================] - 4s 72ms/step - loss: 0.6357 - accuracy: 0.6481 - val_loss: 1.1135 - val_accuracy: 0.0975\n",
            "Epoch 3/50\n",
            "49/50 [============================>.] - ETA: 0s - loss: 0.5758 - accuracy: 0.6849\n",
            "Epoch 3: val_accuracy improved from 0.09750 to 0.16750, saving model to ./model/cat_vs_dog_model_003_0.17.hdf5\n",
            "50/50 [==============================] - 4s 76ms/step - loss: 0.5762 - accuracy: 0.6844 - val_loss: 1.3480 - val_accuracy: 0.1675\n",
            "Epoch 4/50\n",
            "49/50 [============================>.] - ETA: 0s - loss: 0.4594 - accuracy: 0.7710\n",
            "Epoch 4: val_accuracy improved from 0.16750 to 0.42000, saving model to ./model/cat_vs_dog_model_004_0.42.hdf5\n",
            "50/50 [==============================] - 4s 79ms/step - loss: 0.4610 - accuracy: 0.7713 - val_loss: 1.2899 - val_accuracy: 0.4200\n",
            "Epoch 5/50\n",
            "50/50 [==============================] - ETA: 0s - loss: 0.4131 - accuracy: 0.8100\n",
            "Epoch 5: val_accuracy did not improve from 0.42000\n",
            "50/50 [==============================] - 3s 56ms/step - loss: 0.4131 - accuracy: 0.8100 - val_loss: 1.9370 - val_accuracy: 0.2750\n",
            "Epoch 6/50\n",
            "49/50 [============================>.] - ETA: 0s - loss: 0.3258 - accuracy: 0.8412\n",
            "Epoch 6: val_accuracy improved from 0.42000 to 0.43000, saving model to ./model/cat_vs_dog_model_006_0.43.hdf5\n",
            "50/50 [==============================] - 4s 86ms/step - loss: 0.3256 - accuracy: 0.8413 - val_loss: 1.7862 - val_accuracy: 0.4300\n",
            "Epoch 7/50\n",
            "50/50 [==============================] - ETA: 0s - loss: 0.2042 - accuracy: 0.9231\n",
            "Epoch 7: val_accuracy did not improve from 0.43000\n",
            "50/50 [==============================] - 3s 51ms/step - loss: 0.2042 - accuracy: 0.9231 - val_loss: 3.8416 - val_accuracy: 0.3675\n",
            "Epoch 8/50\n",
            "49/50 [============================>.] - ETA: 0s - loss: 0.1433 - accuracy: 0.9426\n",
            "Epoch 8: val_accuracy improved from 0.43000 to 0.46000, saving model to ./model/cat_vs_dog_model_008_0.46.hdf5\n",
            "50/50 [==============================] - 4s 79ms/step - loss: 0.1437 - accuracy: 0.9425 - val_loss: 3.4253 - val_accuracy: 0.4600\n",
            "Epoch 9/50\n",
            "50/50 [==============================] - ETA: 0s - loss: 0.0896 - accuracy: 0.9681\n",
            "Epoch 9: val_accuracy improved from 0.46000 to 0.50000, saving model to ./model/cat_vs_dog_model_009_0.50.hdf5\n",
            "50/50 [==============================] - 4s 89ms/step - loss: 0.0896 - accuracy: 0.9681 - val_loss: 5.5014 - val_accuracy: 0.5000\n",
            "Epoch 10/50\n",
            "49/50 [============================>.] - ETA: 0s - loss: 0.0863 - accuracy: 0.9598\n",
            "Epoch 10: val_accuracy did not improve from 0.50000\n",
            "50/50 [==============================] - 3s 51ms/step - loss: 0.0911 - accuracy: 0.9594 - val_loss: 5.3778 - val_accuracy: 0.4725\n",
            "Epoch 11/50\n",
            "49/50 [============================>.] - ETA: 0s - loss: 0.1801 - accuracy: 0.9432\n",
            "Epoch 11: val_accuracy did not improve from 0.50000\n",
            "50/50 [==============================] - 3s 51ms/step - loss: 0.1794 - accuracy: 0.9438 - val_loss: 3.8420 - val_accuracy: 0.4325\n",
            "Epoch 12/50\n",
            "50/50 [==============================] - ETA: 0s - loss: 0.1098 - accuracy: 0.9669\n",
            "Epoch 12: val_accuracy did not improve from 0.50000\n",
            "50/50 [==============================] - 3s 54ms/step - loss: 0.1098 - accuracy: 0.9669 - val_loss: 5.1327 - val_accuracy: 0.3450\n",
            "Epoch 13/50\n",
            "50/50 [==============================] - ETA: 0s - loss: 0.1019 - accuracy: 0.9663\n",
            "Epoch 13: val_accuracy did not improve from 0.50000\n",
            "50/50 [==============================] - 3s 51ms/step - loss: 0.1019 - accuracy: 0.9663 - val_loss: 4.6652 - val_accuracy: 0.4000\n",
            "Epoch 14/50\n",
            "50/50 [==============================] - ETA: 0s - loss: 0.1485 - accuracy: 0.9638\n",
            "Epoch 14: val_accuracy did not improve from 0.50000\n",
            "50/50 [==============================] - 3s 56ms/step - loss: 0.1485 - accuracy: 0.9638 - val_loss: 5.0272 - val_accuracy: 0.3975\n",
            "Epoch 14: early stopping\n"
          ]
        }
      ]
    },
    {
      "cell_type": "code",
      "source": [
        "# 선그래프로 val_acc, acc 시각화 해보기\n",
        "# cnn_his.history\n",
        "# plt.plot(y 값 설정, 라벨)\n",
        "# plt.plot(y 값 설정, 라벨)\n",
        "# 범례출력\n",
        "# 그래프 출력\n",
        "plt.figure(figsize=(15,4))\n",
        "plt.plot(cnn_his.history['accuracy'],label='acc')\n",
        "plt.plot(cnn_his.history['val_accuracy'],label='val_acc')\n",
        "plt.legend()\n",
        "plt.show()\n",
        "\n",
        "# 기존의 mlp 모델보다는 cnn 모델이 데이터를 잘 파악하고 있음\n",
        "# 비교적 train 성능 높은데, val 성능이 떨어지는 과대적합 현상이 보여짐\n",
        "# 데이터가 여전히 복잡한데 비해서, 모델은 상대적으로 단순할 수 있음\n",
        "# 과대적합을 어떻게 하면 해결할 수 있을까?\n",
        "# 데이터를 늘려서 학습시키면 과대적합이 해소되지 않을까? 데이터 증식!"
      ],
      "metadata": {
        "colab": {
          "base_uri": "https://localhost:8080/",
          "height": 260
        },
        "id": "KpLbMycQWLAB",
        "outputId": "e5abb4db-27b6-4e6e-c53f-c55f9fa557c6"
      },
      "execution_count": null,
      "outputs": [
        {
          "output_type": "display_data",
          "data": {
            "text/plain": [
              "<Figure size 1500x400 with 1 Axes>"
            ],
            "image/png": "[encoded data removed]"
          },
          "metadata": {}
        }
      ]
    },
    {
      "cell_type": "markdown",
      "source": [
        "#### 데이터 증식을 통한 cnn 모델 성능 개선\n",
        "  - tensorflow 의 ImageDataGenerator 도구를 활용해보자\n",
        "  - ImageDataGenerator 여러 설정값에 대해 이해해보자\n",
        "  - 사용할 데이터 : npz x, 실제 이미지 파일 연결 => filtered / train, test 실제 이미지 경로 연결"
      ],
      "metadata": {
        "id": "yGYNclERX41S"
      }
    },
    {
      "cell_type": "code",
      "source": [
        "# 필요한 도구 불러오기\n",
        "from tensorflow.keras.preprocessing.image import ImageDataGenerator\n",
        "# 이미지 증식 도구\n",
        "# Dropout : 과대적합 제어하는 도구\n",
        "from tensorflow.keras.layers import Dropout"
      ],
      "metadata": {
        "id": "hoTkJ2KSaMSl"
      },
      "execution_count": null,
      "outputs": []
    },
    {
      "cell_type": "code",
      "source": [
        "# 증식할 데이터 경로 설정\n",
        "# 학습하는 데이터 개수 늘려야함 => 증식 대상 train\n",
        "# test 0 ~ 255 정보 설정 => 스케일조정 (0 ~ 1) : 증식 대상 x\n",
        "train_dir='./data/cats_and_dogs_filtered/train'\n",
        "test_dir='./data/cats_and_dogs_filtered/test'\n",
        "\n",
        "# 변형 형식 설정\n",
        "# 축소, 확대, 수평 이동, 수평 뒤집기, 수직 이동, 수직 뒤집기 등등\n",
        "# 0 ~ 255 => 0 ~ 1 (데이터 숫자의 분산을 줄임)\n",
        "train_gen=ImageDataGenerator(rescale=1./255,\n",
        "                             zoom_range=0.2,\n",
        "                             horizontal_flip=True)\n",
        "# test => 스케일링\n",
        "test_gen=ImageDataGenerator(rescale=1./255)\n",
        "# 테스트 데이터는 학습에 영향을 주지 않기 때문에 증식 시키지 않음"
      ],
      "metadata": {
        "id": "d4lz6xpEad4t"
      },
      "execution_count": null,
      "outputs": []
    },
    {
      "cell_type": "code",
      "source": [
        "# 데이터와 변형 설정 부분 연결하기\n",
        "train_generator=train_gen.flow_from_directory(train_dir,\n",
        "                                         target_size=(224,224),\n",
        "                                         batch_size=10,\n",
        "                                         class_mode='binary')\n",
        "# 이진분류 설정 연결 => 라벨번호 0 번부터 시작, 폴더는 알파벳 순서로 확인\n",
        "# cats : 0 , dogs : 1\n",
        "test_generator=test_gen.flow_from_directory(test_dir,\n",
        "                                         target_size=(224,224),\n",
        "                                         batch_size=10,\n",
        "                                         class_mode='binary')"
      ],
      "metadata": {
        "colab": {
          "base_uri": "https://localhost:8080/"
        },
        "id": "F5sTWYjmcSTT",
        "outputId": "59da108d-a3ba-4802-e6c3-75773fe309a8"
      },
      "execution_count": null,
      "outputs": [
        {
          "output_type": "stream",
          "name": "stdout",
          "text": [
            "Found 2000 images belonging to 2 classes.\n",
            "Found 1000 images belonging to 2 classes.\n"
          ]
        }
      ]
    },
    {
      "cell_type": "code",
      "source": [
        "# cnn 모델 2 생성\n",
        "# ctrl + shift + l (엘) : 같은단어 모두 선택\n",
        "cnn_model2=Sequential() # 뼈대\n",
        "\n",
        "# 특성추출부 => 합성곱층 연결 : 주요 대상에 집중! => 중요한 특징을 추출 => 추출\n",
        "# 입력에 내용 연결\n",
        "# 필터 (커널, 마스크, 돋보기) 개수, 필터 크기,\n",
        "# 활성화 함수, 패딩 (연산 후 결과 이미지 크기 설정), 스트라이드 (이동간격)\n",
        "# 최대풀링 : 지역 내에서 더 중요한 값만 추출하자!\n",
        "cnn_model2.add(Conv2D(filters=32,kernel_size=(3,3),\n",
        "                     padding='same',input_shape=(224,224,3),activation='relu'))\n",
        "cnn_model2.add(MaxPooling2D(pool_size=(2,2))) # pool_size : 특정 지역에 접근하는 크기\n",
        "# 데이터 안의 대상이 미묘하게 위치가 바뀌어도 지역내의 최댓값은 동일하게 추출\n",
        "# => 위치의 영향을 적게 받음\n",
        "cnn_model2.add(Conv2D(filters=64,kernel_size=(3,3),padding='same',activation='relu'))\n",
        "cnn_model2.add(MaxPooling2D(pool_size=(2,2)))\n",
        "cnn_model2.add(Dropout(0.2)) # 뉴런 20% 비활성화, 20% 만큼 제외하고 학습\n",
        "cnn_model2.add(Conv2D(filters=128,kernel_size=(3,3),padding='same',activation='relu'))\n",
        "cnn_model2.add(MaxPooling2D(pool_size=(2,2)))\n",
        "\n",
        "# 전결합층 (완전연결층,mlp) => 분류부\n",
        "# 1차원 받아들일 수 있음 => Flatten\n",
        "cnn_model2.add(Flatten())\n",
        "# 중간층 : conv 주요 특성 추출 => 중간층 1 ~ 2 층 정도로 얕게 쌓아줌\n",
        "cnn_model2.add(Dense(256,activation='relu'))\n",
        "cnn_model2.add(Dropout(0.2)) # 20% 특성은 제외(랜덤하게 비활성화)하고 학습\n",
        "# 출력층 (이진분류)\n",
        "cnn_model2.add(Dense(1,activation='sigmoid'))\n",
        "# 모델 정보 요약\n",
        "cnn_model2.summary()"
      ],
      "metadata": {
        "colab": {
          "base_uri": "https://localhost:8080/"
        },
        "id": "QDX5bF8DdDzv",
        "outputId": "5234255b-ef79-4cb2-ee73-c07ff541412a"
      },
      "execution_count": null,
      "outputs": [
        {
          "output_type": "stream",
          "name": "stdout",
          "text": [
            "Model: \"sequential_6\"\n",
            "_________________________________________________________________\n",
            " Layer (type)                Output Shape              Param #   \n",
            "=================================================================\n",
            " conv2d_10 (Conv2D)          (None, 224, 224, 32)      896       \n",
            "                                                                 \n",
            " max_pooling2d_8 (MaxPoolin  (None, 112, 112, 32)      0         \n",
            " g2D)                                                            \n",
            "                                                                 \n",
            " conv2d_11 (Conv2D)          (None, 112, 112, 64)      18496     \n",
            "                                                                 \n",
            " max_pooling2d_9 (MaxPoolin  (None, 56, 56, 64)        0         \n",
            " g2D)                                                            \n",
            "                                                                 \n",
            " dropout (Dropout)           (None, 56, 56, 64)        0         \n",
            "                                                                 \n",
            " conv2d_12 (Conv2D)          (None, 56, 56, 128)       73856     \n",
            "                                                                 \n",
            " max_pooling2d_10 (MaxPooli  (None, 28, 28, 128)       0         \n",
            " ng2D)                                                           \n",
            "                                                                 \n",
            " flatten_3 (Flatten)         (None, 100352)            0         \n",
            "                                                                 \n",
            " dense_8 (Dense)             (None, 256)               25690368  \n",
            "                                                                 \n",
            " dropout_1 (Dropout)         (None, 256)               0         \n",
            "                                                                 \n",
            " dense_9 (Dense)             (None, 1)                 257       \n",
            "                                                                 \n",
            "=================================================================\n",
            "Total params: 25783873 (98.36 MB)\n",
            "Trainable params: 25783873 (98.36 MB)\n",
            "Non-trainable params: 0 (0.00 Byte)\n",
            "_________________________________________________________________\n"
          ]
        }
      ]
    },
    {
      "cell_type": "code",
      "source": [
        "# cnn_model2 컴파일\n",
        "cnn_model2.compile(loss='binary_crossentropy',\n",
        "                   optimizer='adam',\n",
        "                   metrics=['accuracy'])\n",
        "\n",
        "# fit 증식할 이미지를 학습할 때 연결\n",
        "# 증식 + 학습 : fit_generator()\n",
        "# 이미지 증식을 하고 학습 진행할 경우, 학습 현황이 들쭉날쭉한 경향이 있음\n",
        "# 조기학습 x\n",
        "# 반복횟수를 크게 설정하는 경우가 많음\n",
        "# 검증용 데이터를 test 데이터로 활용\n",
        "cnn_his2=cnn_model2.fit_generator(generator=train_generator,\n",
        "                                  validation_data=test_generator,\n",
        "                                  epochs=20)"
      ],
      "metadata": {
        "colab": {
          "base_uri": "https://localhost:8080/"
        },
        "id": "AZ5An8H3eB1T",
        "outputId": "2f39730c-0f0a-4707-9d87-23b96af6c586"
      },
      "execution_count": null,
      "outputs": [
        {
          "output_type": "stream",
          "name": "stderr",
          "text": [
            "<ipython-input-42-341c65dd3c57>:12: UserWarning: `Model.fit_generator` is deprecated and will be removed in a future version. Please use `Model.fit`, which supports generators.\n",
            "  cnn_his2=cnn_model2.fit_generator(generator=train_generator,\n"
          ]
        },
        {
          "output_type": "stream",
          "name": "stdout",
          "text": [
            "Epoch 1/20\n",
            "200/200 [==============================] - 1311s 7s/step - loss: 0.8520 - accuracy: 0.5045 - val_loss: 0.6932 - val_accuracy: 0.5000\n",
            "Epoch 2/20\n",
            "200/200 [==============================] - 37s 186ms/step - loss: 0.6884 - accuracy: 0.5030 - val_loss: 0.6932 - val_accuracy: 0.5000\n",
            "Epoch 3/20\n",
            "200/200 [==============================] - 35s 175ms/step - loss: 0.6963 - accuracy: 0.5135 - val_loss: 0.6932 - val_accuracy: 0.5000\n",
            "Epoch 4/20\n",
            "200/200 [==============================] - 39s 193ms/step - loss: 0.6936 - accuracy: 0.4975 - val_loss: 0.6929 - val_accuracy: 0.5000\n",
            "Epoch 5/20\n",
            "200/200 [==============================] - 37s 185ms/step - loss: 0.7019 - accuracy: 0.5060 - val_loss: 0.6928 - val_accuracy: 0.5130\n",
            "Epoch 6/20\n",
            "200/200 [==============================] - 35s 173ms/step - loss: 0.6975 - accuracy: 0.4815 - val_loss: 0.6929 - val_accuracy: 0.5040\n",
            "Epoch 7/20\n",
            "200/200 [==============================] - 35s 175ms/step - loss: 0.6942 - accuracy: 0.4735 - val_loss: 0.6926 - val_accuracy: 0.5010\n",
            "Epoch 8/20\n",
            "200/200 [==============================] - 37s 187ms/step - loss: 0.6934 - accuracy: 0.4830 - val_loss: 0.6930 - val_accuracy: 0.5050\n",
            "Epoch 9/20\n",
            "200/200 [==============================] - 36s 182ms/step - loss: 0.6907 - accuracy: 0.5235 - val_loss: 0.6988 - val_accuracy: 0.5000\n",
            "Epoch 10/20\n",
            "200/200 [==============================] - 35s 174ms/step - loss: 0.6930 - accuracy: 0.4805 - val_loss: 0.6998 - val_accuracy: 0.5010\n",
            "Epoch 11/20\n",
            "200/200 [==============================] - 36s 181ms/step - loss: 0.6928 - accuracy: 0.4975 - val_loss: 0.6992 - val_accuracy: 0.5010\n",
            "Epoch 12/20\n",
            "200/200 [==============================] - 35s 175ms/step - loss: 0.6936 - accuracy: 0.4930 - val_loss: 0.6982 - val_accuracy: 0.5000\n",
            "Epoch 13/20\n",
            "200/200 [==============================] - 35s 176ms/step - loss: 0.6930 - accuracy: 0.5080 - val_loss: 0.6984 - val_accuracy: 0.5000\n",
            "Epoch 14/20\n",
            "200/200 [==============================] - 37s 183ms/step - loss: 0.6928 - accuracy: 0.4950 - val_loss: 0.6969 - val_accuracy: 0.5000\n",
            "Epoch 15/20\n",
            "200/200 [==============================] - 36s 181ms/step - loss: 0.6929 - accuracy: 0.4905 - val_loss: 0.6963 - val_accuracy: 0.5000\n",
            "Epoch 16/20\n",
            "200/200 [==============================] - 35s 174ms/step - loss: 0.6902 - accuracy: 0.4915 - val_loss: 0.6986 - val_accuracy: 0.5000\n",
            "Epoch 17/20\n",
            "200/200 [==============================] - 36s 180ms/step - loss: 0.6962 - accuracy: 0.5030 - val_loss: 0.6932 - val_accuracy: 0.5000\n",
            "Epoch 18/20\n",
            "200/200 [==============================] - 35s 177ms/step - loss: 0.6933 - accuracy: 0.5000 - val_loss: 0.6932 - val_accuracy: 0.5000\n",
            "Epoch 19/20\n",
            "200/200 [==============================] - 35s 175ms/step - loss: 0.6935 - accuracy: 0.4830 - val_loss: 0.6958 - val_accuracy: 0.5000\n",
            "Epoch 20/20\n",
            "200/200 [==============================] - 38s 192ms/step - loss: 0.6946 - accuracy: 0.4900 - val_loss: 0.6932 - val_accuracy: 0.5000\n"
          ]
        }
      ]
    },
    {
      "cell_type": "code",
      "source": [
        "# 선그래프로 val_acc, acc 시각화 해보기\n",
        "# cnn_his.history\n",
        "# plt.plot(y 값 설정, 라벨)\n",
        "# plt.plot(y 값 설정, 라벨)\n",
        "# 범례출력\n",
        "# 그래프 출력\n",
        "plt.figure(figsize=(15,4))\n",
        "plt.plot(cnn_his2.history['accuracy'],label='cnn2 acc')\n",
        "plt.plot(cnn_his2.history['val_accuracy'],label='cnn2 val_acc')\n",
        "plt.legend()\n",
        "plt.show()"
      ],
      "metadata": {
        "colab": {
          "base_uri": "https://localhost:8080/",
          "height": 257
        },
        "id": "bIXhrsuKf2qT",
        "outputId": "75c6ef63-7c59-4437-bef3-b757a1d3bc0f"
      },
      "execution_count": null,
      "outputs": [
        {
          "output_type": "display_data",
          "data": {
            "text/plain": [
              "<Figure size 1500x400 with 1 Axes>"
            ],
            "image/png": "[encoded data removed]"
          },
          "metadata": {}
        }
      ]
    },
    {
      "cell_type": "code",
      "source": [
        "# 이미지 증식을 통해 과대적합 해소된 것을 확인할 수 있음\n",
        "# 이미지 증식으로 모델 성능 개선 가능\n",
        "# 이미지 증식으로 성능 개선하는 방법의 단점은 학습시간이 오래걸림"
      ],
      "metadata": {
        "id": "EWhtFpeTsXIL"
      },
      "execution_count": null,
      "outputs": []
    },
    {
      "cell_type": "markdown",
      "source": [
        "#### 전이학습\n",
        "  - 다른 사람이 만들어 놓은 모델을 사용해보자! (전이학습) > 학습 빠르게 수행, 이미 학습된 데이터에 대해 특징을 효율적으로 추출할 수 있음 > 학습할 데이터에 대해 특징을 추출하는 시간이 필요없게 됨 (시간 단축)\n",
        "  - 작은 용량의 데이터셋에 대해 학습할 때 과대적합을 예방 > 미세조정을 하게되면 학습할 가중치가 줄어 과하게 학습이 진행되지 않음\n",
        "  - 완전히 똑같은 데이터로 학습 x , 비슷한 분류 문제를 푼 모델을 가져와서 사용하는 것 (클래스 레이블이 조금은 다를 수 있음)\n",
        "  - 현재 우리 목표 : 개 vs 고양이\n",
        "  - 전이학습 모델 : 사자 vs 호랑이 vs 코끼리\n",
        "  - 분류하는 대상은 다르지만 판단하는 기준이 비슷할 수 있어서 사전학습 모델을 가져와서 활용하게 됨\n",
        "  - 다른 사람이 만든 모델, 이미 학습된 모델 : 사전학습 모델 (Pretrained model)"
      ],
      "metadata": {
        "id": "W-ofMOqztOWs"
      }
    },
    {
      "cell_type": "code",
      "source": [
        "# vgg16 사전학습 모델 활용\n",
        "# tensorflow => vgg16\n",
        "# python => vgg16\n",
        "from tensorflow.keras.applications import VGG16 # 이미지 인식 모델\n",
        "from tensorflow.keras import Sequential\n",
        "from tensorflow.keras.layers import Dense, Flatten"
      ],
      "metadata": {
        "id": "AkLuirkKtQp8"
      },
      "execution_count": null,
      "outputs": []
    },
    {
      "cell_type": "code",
      "source": [
        "X_train[0].shape\n",
        "# 행 224, 열 224, 색상 3 (컬러)"
      ],
      "metadata": {
        "colab": {
          "base_uri": "https://localhost:8080/"
        },
        "id": "IoKA0fZWRsdF",
        "outputId": "1ce9a890-5df8-43de-ca14-c40f1f43b887"
      },
      "execution_count": null,
      "outputs": [
        {
          "output_type": "execute_result",
          "data": {
            "text/plain": [
              "(224, 224, 3)"
            ]
          },
          "metadata": {},
          "execution_count": 54
        }
      ]
    },
    {
      "cell_type": "code",
      "source": [
        "vgg16=VGG16(include_top=False,\n",
        "            weights='imagenet',\n",
        "            input_shape=(224,224,3))\n",
        "# top : 분류기층 (mlp), False : vgg16 모델이 가지고 있는 다중분류기 사용 x\n",
        "# weights = 'imagenet' : imagenet 경진대회 데이터를 보며 학습한 모델의 가중치 값 활용\n",
        "# input_shape : 앞으로 활용할 데이터의 크기 연결 (커스텀 데이터 크기)"
      ],
      "metadata": {
        "id": "0Pu5hYu6Q3d5"
      },
      "execution_count": null,
      "outputs": []
    },
    {
      "cell_type": "code",
      "source": [
        "vgg16.summary()"
      ],
      "metadata": {
        "colab": {
          "base_uri": "https://localhost:8080/"
        },
        "id": "9CXmuF2OSXXJ",
        "outputId": "7bd30ce7-7255-4a72-d48a-5079562cc89b"
      },
      "execution_count": null,
      "outputs": [
        {
          "output_type": "stream",
          "name": "stdout",
          "text": [
            "Model: \"vgg16\"\n",
            "_________________________________________________________________\n",
            " Layer (type)                Output Shape              Param #   \n",
            "=================================================================\n",
            " input_4 (InputLayer)        [(None, 224, 224, 3)]     0         \n",
            "                                                                 \n",
            " block1_conv1 (Conv2D)       (None, 224, 224, 64)      1792      \n",
            "                                                                 \n",
            " block1_conv2 (Conv2D)       (None, 224, 224, 64)      36928     \n",
            "                                                                 \n",
            " block1_pool (MaxPooling2D)  (None, 112, 112, 64)      0         \n",
            "                                                                 \n",
            " block2_conv1 (Conv2D)       (None, 112, 112, 128)     73856     \n",
            "                                                                 \n",
            " block2_conv2 (Conv2D)       (None, 112, 112, 128)     147584    \n",
            "                                                                 \n",
            " block2_pool (MaxPooling2D)  (None, 56, 56, 128)       0         \n",
            "                                                                 \n",
            " block3_conv1 (Conv2D)       (None, 56, 56, 256)       295168    \n",
            "                                                                 \n",
            " block3_conv2 (Conv2D)       (None, 56, 56, 256)       590080    \n",
            "                                                                 \n",
            " block3_conv3 (Conv2D)       (None, 56, 56, 256)       590080    \n",
            "                                                                 \n",
            " block3_pool (MaxPooling2D)  (None, 28, 28, 256)       0         \n",
            "                                                                 \n",
            " block4_conv1 (Conv2D)       (None, 28, 28, 512)       1180160   \n",
            "                                                                 \n",
            " block4_conv2 (Conv2D)       (None, 28, 28, 512)       2359808   \n",
            "                                                                 \n",
            " block4_conv3 (Conv2D)       (None, 28, 28, 512)       2359808   \n",
            "                                                                 \n",
            " block4_pool (MaxPooling2D)  (None, 14, 14, 512)       0         \n",
            "                                                                 \n",
            " block5_conv1 (Conv2D)       (None, 14, 14, 512)       2359808   \n",
            "                                                                 \n",
            " block5_conv2 (Conv2D)       (None, 14, 14, 512)       2359808   \n",
            "                                                                 \n",
            " block5_conv3 (Conv2D)       (None, 14, 14, 512)       2359808   \n",
            "                                                                 \n",
            " block5_pool (MaxPooling2D)  (None, 7, 7, 512)         0         \n",
            "                                                                 \n",
            "=================================================================\n",
            "Total params: 14714688 (56.13 MB)\n",
            "Trainable params: 14714688 (56.13 MB)\n",
            "Non-trainable params: 0 (0.00 Byte)\n",
            "_________________________________________________________________\n"
          ]
        }
      ]
    },
    {
      "cell_type": "code",
      "source": [
        "# vgg16 이 가지고 있는 Conv 층만 가져온 상황\n",
        "# Conv 층이 개, 고양이 데이터를 입력받았을 때\n",
        "# 학습하지 못하게 w 값을 동결시켜야 함\n",
        "# 학습시 가중치가 갱신되어 버리면, 기존에 학습된 내용이 훼손\n",
        "# 즉, 사전학습 모델을 활용하는 효과를 잃어버림\n",
        "vgg16.trainable=False"
      ],
      "metadata": {
        "id": "iRIwlAZPSiah"
      },
      "execution_count": null,
      "outputs": []
    },
    {
      "cell_type": "code",
      "source": [
        "# 모델 설계\n",
        "# 1. 뼈대구축\n",
        "# 2. vgg16 conv 층 연결 => 특성 추출부 활용\n",
        "# 3. mlp 층 (이진분류) => 분류부 설계\n",
        "transfer_model=Sequential()\n",
        "transfer_model.add(vgg16)\n",
        "\n",
        "# 분류기층 >> mlp (이진분류 : 개 vs 고양이)\n",
        "transfer_model.add(Flatten())\n",
        "transfer_model.add(Dense(64,activation='relu'))\n",
        "transfer_model.add(Dense(1,activation='sigmoid'))\n",
        "\n",
        "transfer_model.summary()"
      ],
      "metadata": {
        "colab": {
          "base_uri": "https://localhost:8080/"
        },
        "id": "dipXY4zIT78q",
        "outputId": "e101d59d-da43-4698-d837-9da9b2699a7e"
      },
      "execution_count": null,
      "outputs": [
        {
          "output_type": "stream",
          "name": "stdout",
          "text": [
            "Model: \"sequential_4\"\n",
            "_________________________________________________________________\n",
            " Layer (type)                Output Shape              Param #   \n",
            "=================================================================\n",
            " vgg16 (Functional)          (None, 7, 7, 512)         14714688  \n",
            "                                                                 \n",
            " flatten_3 (Flatten)         (None, 25088)             0         \n",
            "                                                                 \n",
            " dense_6 (Dense)             (None, 64)                1605696   \n",
            "                                                                 \n",
            " dense_7 (Dense)             (None, 1)                 65        \n",
            "                                                                 \n",
            "=================================================================\n",
            "Total params: 16320449 (62.26 MB)\n",
            "Trainable params: 1605761 (6.13 MB)\n",
            "Non-trainable params: 14714688 (56.13 MB)\n",
            "_________________________________________________________________\n"
          ]
        }
      ]
    },
    {
      "cell_type": "code",
      "source": [
        "# 컴파일 => 이진분류\n",
        "transfer_model.compile(loss='binary_crossentropy',\n",
        "                       optimizer='adam',\n",
        "                       metrics=['accuarcy'])"
      ],
      "metadata": {
        "id": "nwmQj9rIU40x"
      },
      "execution_count": null,
      "outputs": []
    },
    {
      "cell_type": "code",
      "source": [
        "transfer_model.summary()"
      ],
      "metadata": {
        "colab": {
          "base_uri": "https://localhost:8080/"
        },
        "id": "SAiHT4XXhTqL",
        "outputId": "63abe859-87f1-4c9e-8a06-95b60547df2e"
      },
      "execution_count": null,
      "outputs": [
        {
          "output_type": "stream",
          "name": "stdout",
          "text": [
            "Model: \"sequential_4\"\n",
            "_________________________________________________________________\n",
            " Layer (type)                Output Shape              Param #   \n",
            "=================================================================\n",
            " vgg16 (Functional)          (None, 7, 7, 512)         14714688  \n",
            "                                                                 \n",
            " flatten_3 (Flatten)         (None, 25088)             0         \n",
            "                                                                 \n",
            " dense_6 (Dense)             (None, 64)                1605696   \n",
            "                                                                 \n",
            " dense_7 (Dense)             (None, 1)                 65        \n",
            "                                                                 \n",
            "=================================================================\n",
            "Total params: 16320449 (62.26 MB)\n",
            "Trainable params: 1605761 (6.13 MB)\n",
            "Non-trainable params: 14714688 (56.13 MB)\n",
            "_________________________________________________________________\n"
          ]
        }
      ]
    },
    {
      "cell_type": "code",
      "source": [
        "# 학습하기 전에 미세 조정 설정\n",
        "# 모든 학습 x , mlp 층과 가까운 마지막 층 부터 학습이 가능하게 설정 o\n",
        "# for layer in vgg16.layers:\n",
        "#   # print(layer.name)\n",
        "#   if layer.name=='block5_conv3':\n",
        "#     layer.trainable=True # 해당 층만 동결을 품\n",
        "#   else:\n",
        "#     layer.trainable=False # 나머지 층은 그대로 동결\n",
        "\n",
        "# 학습\n",
        "# 검증 데이터 30%\n",
        "# npz >> X_train,y_train\n",
        "# 반복횟수 10\n",
        "vgg_his=transfer_model.fit(X_train,y_train,\n",
        "                   validation_split=0.3,\n",
        "                   epochs=10)"
      ],
      "metadata": {
        "colab": {
          "base_uri": "https://localhost:8080/"
        },
        "id": "rrwMciu1WfWh",
        "outputId": "433853ee-1c3b-4849-f37c-1d42e516c215"
      },
      "execution_count": null,
      "outputs": [
        {
          "output_type": "stream",
          "name": "stdout",
          "text": [
            "Epoch 1/10\n",
            "44/44 [==============================] - 8s 178ms/step - loss: 0.0457 - accuracy: 0.9900 - val_loss: 0.8111 - val_accuracy: 0.9383\n",
            "Epoch 2/10\n",
            "44/44 [==============================] - 8s 186ms/step - loss: 0.0286 - accuracy: 0.9971 - val_loss: 0.3765 - val_accuracy: 0.9617\n",
            "Epoch 3/10\n",
            "44/44 [==============================] - 8s 191ms/step - loss: 0.0098 - accuracy: 0.9964 - val_loss: 0.6526 - val_accuracy: 0.9483\n",
            "Epoch 4/10\n",
            "44/44 [==============================] - 8s 193ms/step - loss: 0.0040 - accuracy: 0.9993 - val_loss: 1.0139 - val_accuracy: 0.9383\n",
            "Epoch 5/10\n",
            "44/44 [==============================] - 11s 257ms/step - loss: 7.6941e-06 - accuracy: 1.0000 - val_loss: 0.9811 - val_accuracy: 0.9400\n",
            "Epoch 6/10\n",
            "44/44 [==============================] - 9s 195ms/step - loss: 5.2056e-06 - accuracy: 1.0000 - val_loss: 0.9881 - val_accuracy: 0.9400\n",
            "Epoch 7/10\n",
            "44/44 [==============================] - 8s 192ms/step - loss: 3.8097e-06 - accuracy: 1.0000 - val_loss: 0.9916 - val_accuracy: 0.9400\n",
            "Epoch 8/10\n",
            "44/44 [==============================] - 8s 192ms/step - loss: 3.2210e-06 - accuracy: 1.0000 - val_loss: 0.9946 - val_accuracy: 0.9400\n",
            "Epoch 9/10\n",
            "44/44 [==============================] - 8s 188ms/step - loss: 2.7736e-06 - accuracy: 1.0000 - val_loss: 0.9968 - val_accuracy: 0.9400\n",
            "Epoch 10/10\n",
            "44/44 [==============================] - 8s 186ms/step - loss: 2.4425e-06 - accuracy: 1.0000 - val_loss: 0.9988 - val_accuracy: 0.9400\n"
          ]
        }
      ]
    },
    {
      "cell_type": "code",
      "source": [
        "# vgg_his\n",
        "# acc, val_acc 시각화\n",
        "plt.figure(figsize=(10,3))\n",
        "acc=vgg_his.history['accuracy']\n",
        "val_acc=vgg_his.history['val_accuracy']\n",
        "plt.plot(acc,label='acc')\n",
        "plt.plot(val_acc,label='val acc')\n",
        "plt.legend()\n",
        "plt.show()\n",
        "\n",
        "# cnn 모델 설계 변경하면서 다시 학습하고 과정 필요\n",
        "# 전이학습 하게되면 cnn 모델 설계 변경할 필요, 학습시간이 많이 걸리지 않고\n",
        "# 좋은 성능을 뽑아낼 수 있음"
      ],
      "metadata": {
        "colab": {
          "base_uri": "https://localhost:8080/",
          "height": 291
        },
        "id": "AXXXbehaWpZg",
        "outputId": "b7dd4d98-56bc-44bb-f2e7-8dd0e3c70014"
      },
      "execution_count": null,
      "outputs": [
        {
          "output_type": "display_data",
          "data": {
            "text/plain": [
              "<Figure size 1000x300 with 1 Axes>"
            ],
            "image/png": "[encoded data removed]"
          },
          "metadata": {}
        }
      ]
    },
    {
      "cell_type": "code",
      "source": [],
      "metadata": {
        "id": "Wr4Rw06sn6jA"
      },
      "execution_count": null,
      "outputs": []
    }
  ]
}