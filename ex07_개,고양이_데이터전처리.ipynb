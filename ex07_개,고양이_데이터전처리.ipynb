{
  "cells": [
    {
      "cell_type": "markdown",
      "metadata": {
        "id": "view-in-github",
        "colab_type": "text"
      },
      "source": [
        "<a href=\"https://colab.research.google.com/github/Jang-jw/DeepLearning/blob/main/ex07_%EA%B0%9C%2C%EA%B3%A0%EC%96%91%EC%9D%B4_%EB%8D%B0%EC%9D%B4%ED%84%B0%EC%A0%84%EC%B2%98%EB%A6%AC.ipynb\" target=\"_parent\"><img src=\"https://colab.research.google.com/assets/colab-badge.svg\" alt=\"Open In Colab\"/></a>"
      ]
    },
    {
      "cell_type": "code",
      "source": [
        "from google.colab import drive\n",
        "drive.mount('/content/drive')"
      ],
      "metadata": {
        "colab": {
          "base_uri": "https://localhost:8080/"
        },
        "id": "kyXeApxWSWcx",
        "outputId": "6a598693-c943-41bf-bdf5-e9d11b15de56"
      },
      "execution_count": 26,
      "outputs": [
        {
          "output_type": "stream",
          "name": "stdout",
          "text": [
            "Drive already mounted at /content/drive; to attempt to forcibly remount, call drive.mount(\"/content/drive\", force_remount=True).\n"
          ]
        }
      ]
    },
    {
      "cell_type": "code",
      "execution_count": 27,
      "metadata": {
        "colab": {
          "base_uri": "https://localhost:8080/"
        },
        "id": "E0NZ52v_8CJN",
        "outputId": "f173b38f-6121-4065-c39a-26d5cad8ba6f"
      },
      "outputs": [
        {
          "output_type": "stream",
          "name": "stdout",
          "text": [
            "/content/drive/MyDrive/Colab Notebooks/DeepLearning\n"
          ]
        }
      ],
      "source": [
        "# 드라이브 연동\n",
        "# 경로 이동 -> 딥러닝 폴더까지\n",
        "%cd /content/drive/MyDrive/Colab Notebooks/DeepLearning\n",
        "# 상대 경로로 데이터에 접근하기 위해 디렉토리 변경"
      ]
    },
    {
      "cell_type": "code",
      "execution_count": 28,
      "metadata": {
        "colab": {
          "base_uri": "https://localhost:8080/",
          "height": 35
        },
        "id": "9ZZh3mJz9FpS",
        "outputId": "69f053a6-fe99-4928-c2ee-4b8f0bc43b33"
      },
      "outputs": [
        {
          "output_type": "execute_result",
          "data": {
            "text/plain": [
              "'/content/drive/MyDrive/Colab Notebooks/DeepLearning'"
            ],
            "application/vnd.google.colaboratory.intrinsic+json": {
              "type": "string"
            }
          },
          "metadata": {},
          "execution_count": 28
        }
      ],
      "source": [
        "# 추가) 현재 디렉토리(폴더 경로) 확인\n",
        "%pwd"
      ]
    },
    {
      "cell_type": "markdown",
      "metadata": {
        "id": "GZl4_HW39eiF"
      },
      "source": [
        "### 목표\n",
        " - 고양이, 개 이미지(사진)를 배열로 변환하는 작업을 진행해보자(이미지 데이터 전처리)\n",
        "   - 압축된 형식의 배열로 저장: npz\n",
        "   - 대용량의 데이터를 압축형태로 정리해두면 클라우드 환경에 쉽게 업로드, 다운로드 할 수 있게 됨(관리가 용이)\n",
        "   - 저장소의 공간 적게 차지함"
      ]
    },
    {
      "cell_type": "code",
      "execution_count": 29,
      "metadata": {
        "id": "1mqdn6Dp-Ff1"
      },
      "outputs": [],
      "source": [
        "# 1. 압축 파일 불러와서 해제\n",
        "# 2. 압축이 풀린 폴더들 안에 있는 이미지 접근\n",
        "# 3. 이미지 한장씩 모두를 그림-> nparray\n",
        "# 4. nparray 하나의 리스트에 묶어서 변수에 저장\n",
        "# 5. 묶어져 있는 변수를 npz라고 하는 확장자로 연결하여 파일 형식으로 저장"
      ]
    },
    {
      "cell_type": "code",
      "execution_count": 30,
      "metadata": {
        "id": "xrcJ7A-4-gyE"
      },
      "outputs": [],
      "source": [
        "# 환경 셋팅\n",
        "import numpy as np\n",
        "from zipfile import ZipFile  # 압축 해제시 사용\n",
        "import os # 파일을 다룰때 사용\n",
        "from PIL import Image # 이미지 다룰때 사용"
      ]
    },
    {
      "cell_type": "code",
      "execution_count": 31,
      "metadata": {
        "id": "C0KSkFTl_MDr"
      },
      "outputs": [],
      "source": [
        "# 1. 압축 폴더 압축 해제\n",
        "# 해제할 압축파일 경로 설정\n",
        "zip_file_path = '/content/drive/MyDrive/Colab Notebooks/DeepLearning/data/cats_and_dogs_filtered.zip'\n",
        "# ZipFile() 파일 열기\n",
        "with ZipFile(zip_file_path, 'r') as f:\n",
        "    # './data/'에 해제\n",
        "    f.extractall(path = './data/')"
      ]
    },
    {
      "cell_type": "code",
      "execution_count": 32,
      "metadata": {
        "id": "DVDGBK_AAN0j",
        "colab": {
          "base_uri": "https://localhost:8080/"
        },
        "outputId": "4ffb29bc-f3e0-4299-da1e-d547b8f53574"
      },
      "outputs": [
        {
          "output_type": "stream",
          "name": "stdout",
          "text": [
            "\u001b[0m\u001b[01;34mtest\u001b[0m/  \u001b[01;34mtrain\u001b[0m/\n"
          ]
        }
      ],
      "source": [
        "# data폴더에 압축 해제된 폴더 생성됐는지 확인 !\n",
        "%ls ./data/cats_and_dogs_filtered/"
      ]
    },
    {
      "cell_type": "code",
      "execution_count": 33,
      "metadata": {
        "colab": {
          "base_uri": "https://localhost:8080/"
        },
        "id": "-ZVm-0SZBOnt",
        "outputId": "2388a477-68e3-44c0-fed5-0322957c9647"
      },
      "outputs": [
        {
          "output_type": "stream",
          "name": "stdout",
          "text": [
            "훈련 고양이 이미지: 1000\n",
            "훈련 개 이미지: 1000\n",
            "테스트 고양이 이미지: 500\n",
            "테스트 개 이미지: 500\n"
          ]
        }
      ],
      "source": [
        "# filtered 폴더명\n",
        "# train 폴더 - cats, dogs\n",
        "# test 폴더 - cats, dogs\n",
        "# 각 4개의 폴더 경로 변수 저장\n",
        "train_cats_dir = './data/cats_and_dogs_filtered/train/cats'\n",
        "train_dogs_dir = './data/cats_and_dogs_filtered/train/dogs'\n",
        "test_cats_dir = './data/cats_and_dogs_filtered/test/cats'\n",
        "test_dogs_dir = './data/cats_and_dogs_filtered/test/dogs'\n",
        "\n",
        "# 각 폴더에 있는 이미지 파일명 확인\n",
        "# os.listdir(폴더경로) : 해당 폴더 경로에 있는 모든 파일명을 리스트 출력\n",
        "train_cats_fn = os.listdir(train_cats_dir)\n",
        "train_dogs_fn = os.listdir(train_dogs_dir)\n",
        "test_cats_fn = os.listdir(test_cats_dir)\n",
        "test_dogs_fn = os.listdir(test_dogs_dir)\n",
        "\n",
        "# 각 변수의 이미지 개수 확인\n",
        "print('훈련 고양이 이미지:', len(train_cats_fn))\n",
        "print('훈련 개 이미지:', len(train_dogs_fn))\n",
        "print('테스트 고양이 이미지:', len(test_cats_fn))\n",
        "print('테스트 개 이미지:', len(test_dogs_fn))\n",
        "# 훈련 이미지 총 2000장, 테스트 이미지 총 1000장"
      ]
    },
    {
      "cell_type": "code",
      "source": [
        "train_cats_dir"
      ],
      "metadata": {
        "colab": {
          "base_uri": "https://localhost:8080/",
          "height": 35
        },
        "id": "jL3nimXLKmIW",
        "outputId": "8015c13c-d7b7-40d1-c508-635cf5e25158"
      },
      "execution_count": 34,
      "outputs": [
        {
          "output_type": "execute_result",
          "data": {
            "text/plain": [
              "'./data/cats_and_dogs_filtered/train/cats'"
            ],
            "application/vnd.google.colaboratory.intrinsic+json": {
              "type": "string"
            }
          },
          "metadata": {},
          "execution_count": 34
        }
      ]
    },
    {
      "cell_type": "code",
      "source": [
        "train_cats_fn[0]"
      ],
      "metadata": {
        "colab": {
          "base_uri": "https://localhost:8080/",
          "height": 35
        },
        "id": "zuLWypavKquo",
        "outputId": "0c0ff9a8-48e5-41d6-e747-8fa0172c12ac"
      },
      "execution_count": 35,
      "outputs": [
        {
          "output_type": "execute_result",
          "data": {
            "text/plain": [
              "'cat.103.jpg'"
            ],
            "application/vnd.google.colaboratory.intrinsic+json": {
              "type": "string"
            }
          },
          "metadata": {},
          "execution_count": 35
        }
      ]
    },
    {
      "cell_type": "code",
      "execution_count": 36,
      "metadata": {
        "colab": {
          "base_uri": "https://localhost:8080/",
          "height": 35
        },
        "id": "HHr1Dc55R7Ef",
        "outputId": "eb849bfb-707b-47b1-ac3d-a1c3ab71f16a"
      },
      "outputs": [
        {
          "output_type": "execute_result",
          "data": {
            "text/plain": [
              "'./data/cats_and_dogs_filtered/train/cats/cat.103.jpg'"
            ],
            "application/vnd.google.colaboratory.intrinsic+json": {
              "type": "string"
            }
          },
          "metadata": {},
          "execution_count": 36
        }
      ],
      "source": [
        "# 이미지 1장씩에 접근해서 그림 => 크기조정 => nparray\n",
        "# 예시 1장만 배열로 변환\n",
        "# train cats 이미지 1장 접근\n",
        "\n",
        "tmp_path=os.path.join(train_cats_dir,train_cats_fn[0])\n",
        "tmp_path"
      ]
    },
    {
      "cell_type": "code",
      "source": [
        "img=Image.open(tmp_path)\n",
        "np.array(img).shape"
      ],
      "metadata": {
        "colab": {
          "base_uri": "https://localhost:8080/"
        },
        "id": "Y8D9gqR1LrQ6",
        "outputId": "1292b746-43a7-46c3-da55-3011d8605e30"
      },
      "execution_count": 37,
      "outputs": [
        {
          "output_type": "execute_result",
          "data": {
            "text/plain": [
              "(386, 500, 3)"
            ]
          },
          "metadata": {},
          "execution_count": 37
        }
      ]
    },
    {
      "cell_type": "code",
      "source": [
        "# image 클래스\n",
        "# 추가) 이미지를 다루는 lib - 1. opencv -2 PIL\n",
        "img=Image.open(tmp_path).resize((224,224)) # 정사각형, (320,320), (640,640)\n",
        "np.array(img).shape"
      ],
      "metadata": {
        "colab": {
          "base_uri": "https://localhost:8080/"
        },
        "id": "ET1o9hfEJyU4",
        "outputId": "3c0a7e08-fe42-4fb6-c676-56503091d09d"
      },
      "execution_count": 38,
      "outputs": [
        {
          "output_type": "execute_result",
          "data": {
            "text/plain": [
              "(224, 224, 3)"
            ]
          },
          "metadata": {},
          "execution_count": 38
        }
      ]
    },
    {
      "cell_type": "code",
      "execution_count": 39,
      "metadata": {
        "id": "PQEMePedR7Ef"
      },
      "outputs": [],
      "source": [
        "# 4 개 폴더명, 각 폴더 이미지 파일명 연결해서 전처리하는 함수를 생성\n",
        "def prepro_imgs(folder_path,file_name,img_size=(224,224)):\n",
        "    # 변환된 이미지 배열을 담는 빈 리스트\n",
        "    img_list=[] # 1 장 변환시 append 를 통해 이미지 누적 저장\n",
        "\n",
        "    # 각 파일 접근하면서 불러오기 => 크기조정 => nparray\n",
        "    for i in file_name:\n",
        "        # 폴더 경로 + 파일 경로 합치기\n",
        "        path=os.path.join(folder_path,i)\n",
        "\n",
        "        # 파일 오픈 + 리사이즈 (크기조정 => img_size=224,224)\n",
        "        img=Image.open(path).resize(img_size)\n",
        "\n",
        "        # array 변환 => img_list 누적\n",
        "        img_list.append(np.array(img))\n",
        "\n",
        "    return np.array(img_list) # 모델 연결할때 list 보다는 array 연산하는게 용이"
      ]
    },
    {
      "cell_type": "code",
      "execution_count": 40,
      "metadata": {
        "colab": {
          "base_uri": "https://localhost:8080/"
        },
        "id": "2yRsVIyhR7Ef",
        "outputId": "bd6aa65c-9a48-4358-af93-24390060339b"
      },
      "outputs": [
        {
          "output_type": "stream",
          "name": "stdout",
          "text": [
            "훈련데이터: (1000, 224, 224, 3) (1000, 224, 224, 3)\n",
            "테스트데이터: (1000, 224, 224, 3) (1000, 224, 224, 3)\n"
          ]
        }
      ],
      "source": [
        "# 함수 호출 실행 총 4 번\n",
        "X_train_cats=prepro_imgs(train_cats_dir,train_cats_fn)\n",
        "X_train_dogs=prepro_imgs(train_dogs_dir,train_dogs_fn)\n",
        "X_test_cats=prepro_imgs(train_cats_dir,train_cats_fn)\n",
        "X_test_dogs=prepro_imgs(train_dogs_dir,train_dogs_fn)\n",
        "\n",
        "# 크기확인\n",
        "print('훈련데이터:',X_train_cats.shape,X_train_dogs.shape)\n",
        "print('테스트데이터:',X_test_cats.shape,X_test_dogs.shape)\n",
        "# (이미지샘플개수,행,열,채널수)\n",
        "# 채널수 3 => 컬러이미지\n",
        "# 채널수 1 => 흑백이미지"
      ]
    },
    {
      "cell_type": "code",
      "execution_count": 41,
      "metadata": {
        "colab": {
          "base_uri": "https://localhost:8080/"
        },
        "id": "Z9E7Jq6fR7Eg",
        "outputId": "6027e6ce-32a0-4583-c578-d7fc387c65a2"
      },
      "outputs": [
        {
          "output_type": "execute_result",
          "data": {
            "text/plain": [
              "array([[[117, 115, 127],\n",
              "        [115, 113, 126],\n",
              "        [106, 103, 119],\n",
              "        ...,\n",
              "        [133, 135, 147],\n",
              "        [132, 134, 144],\n",
              "        [132, 132, 140]],\n",
              "\n",
              "       [[119, 117, 128],\n",
              "        [117, 115, 128],\n",
              "        [108, 105, 120],\n",
              "        ...,\n",
              "        [134, 136, 148],\n",
              "        [134, 136, 146],\n",
              "        [135, 135, 143]],\n",
              "\n",
              "       [[121, 119, 131],\n",
              "        [119, 117, 130],\n",
              "        [110, 108, 123],\n",
              "        ...,\n",
              "        [136, 138, 150],\n",
              "        [135, 137, 146],\n",
              "        [136, 136, 144]],\n",
              "\n",
              "       ...,\n",
              "\n",
              "       [[ 70,  75,  79],\n",
              "        [ 73,  79,  82],\n",
              "        [ 70,  78,  81],\n",
              "        ...,\n",
              "        [ 62,  71,  76],\n",
              "        [ 71,  81,  85],\n",
              "        [ 77,  87,  89]],\n",
              "\n",
              "       [[ 70,  75,  79],\n",
              "        [ 72,  77,  81],\n",
              "        [ 73,  81,  84],\n",
              "        ...,\n",
              "        [ 76,  85,  90],\n",
              "        [ 76,  85,  89],\n",
              "        [ 71,  82,  83]],\n",
              "\n",
              "       [[ 66,  71,  75],\n",
              "        [ 65,  71,  74],\n",
              "        [ 67,  76,  79],\n",
              "        ...,\n",
              "        [ 81,  90,  95],\n",
              "        [ 64,  73,  77],\n",
              "        [ 64,  74,  76]]], dtype=uint8)"
            ]
          },
          "metadata": {},
          "execution_count": 41
        }
      ],
      "source": [
        "# 이미지 배열 1 장 접근해보기\n",
        "X_train_dogs[0] # 이미지 1 장은 3 차원으로 표현 (컬러이미지)"
      ]
    },
    {
      "cell_type": "code",
      "execution_count": 42,
      "metadata": {
        "colab": {
          "base_uri": "https://localhost:8080/"
        },
        "id": "aoA-mthdR7Eg",
        "outputId": "d81d4d58-cfb4-4848-b52d-a5794c592fdb"
      },
      "outputs": [
        {
          "output_type": "stream",
          "name": "stdout",
          "text": [
            "훈련이미지 크기: (2000, 224, 224, 3)\n",
            "테스트이미지 크기: (2000, 224, 224, 3)\n"
          ]
        }
      ],
      "source": [
        "# train 끼리 병합\n",
        "# 배열 병합하는 함수 : np.concatenate((대상,대상))\n",
        "# 고양이 + 개\n",
        "X_train=np.concatenate((X_train_cats,X_train_dogs))\n",
        "X_test=np.concatenate((X_test_cats,X_test_dogs))\n",
        "# 크기확인\n",
        "print('훈련이미지 크기:',X_train.shape) # 고양이 + 개 2000장\n",
        "print('테스트이미지 크기:',X_test.shape) # 고양이 + 개 총 1000장"
      ]
    },
    {
      "cell_type": "code",
      "source": [
        "# 답 데이터 생성\n",
        "# 고양이 : 0 , 개 : 1\n",
        "# train 0-1000 개 , 1-1000 개 => 2000 개\n",
        "# test 0-500 개 , 1-500 개 => 1000 개\n",
        "# [0 천개, 1 천개]\n",
        "y_train=np.array([0]*1000 + [1]*1000) # 훈련 답\n",
        "# 테스트 답 생성\n",
        "y_test=np.array([0]*500 + [1]*500)\n",
        "# 크기확인\n",
        "print('훈련답:',y_train.shape)\n",
        "print('테스트:',y_test.shape)"
      ],
      "metadata": {
        "colab": {
          "base_uri": "https://localhost:8080/"
        },
        "id": "h0eHOsJpR_5v",
        "outputId": "b9db73a8-2a0b-4ee7-8318-a814a719a16e"
      },
      "execution_count": 43,
      "outputs": [
        {
          "output_type": "stream",
          "name": "stdout",
          "text": [
            "훈련답: (2000,)\n",
            "테스트: (1000,)\n"
          ]
        }
      ]
    },
    {
      "cell_type": "code",
      "source": [
        "# 이미지들 => 배열\n",
        "# 배열 압축해서 저장\n",
        "# npz 확장자 파일 생성됐는지 확인\n",
        "np.savez_compressed('./data/npz_cats_vs_dogs.npz',\n",
        "                    X_train=X_train,\n",
        "                    X_test=X_test,\n",
        "                    y_train=y_train,\n",
        "                    y_test=y_test)"
      ],
      "metadata": {
        "id": "Y5uFQG3ESAi2"
      },
      "execution_count": 44,
      "outputs": []
    },
    {
      "cell_type": "code",
      "source": [],
      "metadata": {
        "id": "GdGOwZAGTZUG"
      },
      "execution_count": 44,
      "outputs": []
    }
  ],
  "metadata": {
    "colab": {
      "provenance": [],
      "gpuType": "T4",
      "include_colab_link": true
    },
    "kernelspec": {
      "display_name": "Python 3",
      "name": "python3"
    },
    "language_info": {
      "name": "python"
    },
    "accelerator": "GPU"
  },
  "nbformat": 4,
  "nbformat_minor": 0
}